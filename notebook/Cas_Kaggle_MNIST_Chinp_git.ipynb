{
 "cells": [
  {
   "cell_type": "markdown",
   "metadata": {},
   "source": [
    "## NAME: Manuel Arnau Fernández"
   ]
  },
  {
   "cell_type": "markdown",
   "metadata": {},
   "source": [
    "## NIU: 1597487"
   ]
  },
  {
   "cell_type": "markdown",
   "metadata": {},
   "source": [
    "## Introduction"
   ]
  },
  {
   "cell_type": "markdown",
   "metadata": {},
   "source": [
    "The Chinese MNIST is a dataset built to practice with image classification models. Similar to MNIST, each image is a handwritten number in greyscale, but in this case the chinese characters are used. Therefore, the objective is to label with the correct number given the image, thus is an ideal dataset to use CNN."
   ]
  },
  {
   "cell_type": "markdown",
   "metadata": {},
   "source": [
    "#### References"
   ]
  },
  {
   "cell_type": "markdown",
   "metadata": {},
   "source": [
    "The material and references used in order to work with this dataset are the following:"
   ]
  },
  {
   "cell_type": "markdown",
   "metadata": {},
   "source": [
    "https://www.kaggle.com/code/stpeteishii/chinese-mnist-classify-torch-linear/notebook\n",
    "\n",
    "https://pypi.org/project/albumentations/\n",
    "\n",
    "https://albumentations.ai/docs/examples/pytorch_classification/#Set-the-root-directory-for-the-downloaded-dataset\n",
    "\n",
    "https://www.datacamp.com/tutorial/complete-guide-data-augmentation\n",
    "\n",
    "https://github.com/christianversloot/machine-learning-articles/blob/main/how-to-use-k-fold-cross-validation-with-pytorch.md\n",
    "\n",
    "https://www.kaggle.com/code/enwei26/mnist-digits-pytorch-cnn-99/notebook\n",
    "\n",
    "https://www.kaggle.com/code/pritishmishra/augmentation-with-albumentations\n",
    "\n",
    "https://www.kaggle.com/code/chekoduadarsh/starters-guide-convolutional-xgboost/notebook\n",
    "\n",
    "https://www.kaggle.com/code/gpreda/chinese-mnist-exploratory-data-analysis\n",
    "\n",
    "https://github.com/Tigeryang93/cnn-with-xgboost\n",
    "\n",
    "https://pythonguides.com/pytorch-early-stopping/\n",
    "\n",
    "https://scikit-learn.org/stable/modules/grid_search.html\n",
    "\n",
    "https://stackoverflow.com/questions/54413160/training-validation-testing-batch-size-ratio\n",
    "\n",
    "https://www.python-engineer.com/courses/pytorchbeginner/10-dataset-transforms/\n",
    "\n",
    "https://pytorch.org/docs/stable/generated/torch.optim.lr_scheduler.ReduceLROnPlateau.html#torch.optim.lr_scheduler.ReduceLROnPlateau\n",
    "\n",
    "https://stackoverflow.com/questions/71998978/early-stopping-in-pytorch"
   ]
  },
  {
   "cell_type": "markdown",
   "metadata": {},
   "source": [
    "#### Packages for the analysis"
   ]
  },
  {
   "cell_type": "code",
   "execution_count": 1,
   "metadata": {},
   "outputs": [],
   "source": [
    "import pandas as pd\n",
    "import numpy as np\n",
    "import sys\n",
    "import os\n",
    "import random\n",
    "from pathlib import Path\n",
    "import imageio\n",
    "import skimage\n",
    "import skimage.io\n",
    "import skimage.transform\n",
    "import matplotlib.pyplot as plt\n",
    "import seaborn as sns\n",
    "import warnings\n",
    "warnings.filterwarnings('ignore')"
   ]
  },
  {
   "cell_type": "markdown",
   "metadata": {},
   "source": [
    "Checking what do we have at the current directory and setting the path for images"
   ]
  },
  {
   "cell_type": "code",
   "execution_count": 2,
   "metadata": {},
   "outputs": [],
   "source": [
    "os.listdir(\"./chinese-mnist\")\n",
    "IMAGE_PATH = \"./chinese-mnist/data/data/\""
   ]
  },
  {
   "cell_type": "markdown",
   "metadata": {},
   "source": [
    "#### Loading the dataset"
   ]
  },
  {
   "cell_type": "code",
   "execution_count": 3,
   "metadata": {},
   "outputs": [],
   "source": [
    "dataset_raw = pd.read_csv(\"./chinese-mnist/chinese_mnist.csv\")"
   ]
  },
  {
   "cell_type": "markdown",
   "metadata": {},
   "source": [
    "We have 15000 samples that each contains 5 features"
   ]
  },
  {
   "cell_type": "code",
   "execution_count": 4,
   "metadata": {},
   "outputs": [
    {
     "data": {
      "text/plain": [
       "(15000, 5)"
      ]
     },
     "execution_count": 4,
     "metadata": {},
     "output_type": "execute_result"
    }
   ],
   "source": [
    "dataset_raw.shape"
   ]
  },
  {
   "cell_type": "markdown",
   "metadata": {},
   "source": [
    "Let's see how does the dataset look"
   ]
  },
  {
   "cell_type": "code",
   "execution_count": 5,
   "metadata": {},
   "outputs": [
    {
     "name": "stdout",
     "output_type": "stream",
     "text": [
      "<class 'pandas.core.frame.DataFrame'>\n",
      "Int64Index: 5 entries, 8961 to 11906\n",
      "Data columns (total 5 columns):\n",
      " #   Column     Non-Null Count  Dtype \n",
      "---  ------     --------------  ----- \n",
      " 0   suite_id   5 non-null      int64 \n",
      " 1   sample_id  5 non-null      int64 \n",
      " 2   code       5 non-null      int64 \n",
      " 3   value      5 non-null      int64 \n",
      " 4   character  5 non-null      object\n",
      "dtypes: int64(4), object(1)\n",
      "memory usage: 240.0+ bytes\n"
     ]
    }
   ],
   "source": [
    "dataset_raw.sample(5).info()"
   ]
  },
  {
   "cell_type": "markdown",
   "metadata": {},
   "source": [
    "#### Data description"
   ]
  },
  {
   "cell_type": "markdown",
   "metadata": {},
   "source": [
    "suite_id: ID of the person that wrote the number. (int)\n",
    "\n",
    "sample_id: Nº of sample wrote by the person (total of 10 for each number). (int)\n",
    "\n",
    "code: Code that identifies each of the 15 numbers, ranging from 1 to 15. (int)\n",
    "\n",
    "value: Actual value of the written number. (int)\n",
    "\n",
    "character: the Chinese character. (object)\n",
    "\n",
    "The target will be code, since it gives a numerical identifier to each class. We do not use character since it is a categorical variable, and we would have to do encoding."
   ]
  },
  {
   "cell_type": "markdown",
   "metadata": {},
   "source": [
    "The images follow this pattern: \"input_{suiteid}{sampleid}{code}.jpg\". This will be useful later."
   ]
  },
  {
   "cell_type": "markdown",
   "metadata": {},
   "source": [
    "### Data Exploration and Analysis"
   ]
  },
  {
   "cell_type": "markdown",
   "metadata": {},
   "source": [
    "#### Cleaning dataset"
   ]
  },
  {
   "cell_type": "markdown",
   "metadata": {},
   "source": [
    "First of all we have to check if the dataset contain NaN values in any columns. To do so, we create a function that return a table with the total of NaNs for column and the percentage that represents."
   ]
  },
  {
   "cell_type": "code",
   "execution_count": 6,
   "metadata": {},
   "outputs": [],
   "source": [
    "def checking_nans(dataset):\n",
    "    total = dataset.isnull().sum()\n",
    "    percent = total/dataset.count()\n",
    "    return pd.concat([total,percent], axis=1, keys=['Total','Percentage'])"
   ]
  },
  {
   "cell_type": "code",
   "execution_count": 7,
   "metadata": {},
   "outputs": [
    {
     "data": {
      "text/html": [
       "<div>\n",
       "<style scoped>\n",
       "    .dataframe tbody tr th:only-of-type {\n",
       "        vertical-align: middle;\n",
       "    }\n",
       "\n",
       "    .dataframe tbody tr th {\n",
       "        vertical-align: top;\n",
       "    }\n",
       "\n",
       "    .dataframe thead th {\n",
       "        text-align: right;\n",
       "    }\n",
       "</style>\n",
       "<table border=\"1\" class=\"dataframe\">\n",
       "  <thead>\n",
       "    <tr style=\"text-align: right;\">\n",
       "      <th></th>\n",
       "      <th>Total</th>\n",
       "      <th>Percentage</th>\n",
       "    </tr>\n",
       "  </thead>\n",
       "  <tbody>\n",
       "    <tr>\n",
       "      <th>suite_id</th>\n",
       "      <td>0</td>\n",
       "      <td>0.0</td>\n",
       "    </tr>\n",
       "    <tr>\n",
       "      <th>sample_id</th>\n",
       "      <td>0</td>\n",
       "      <td>0.0</td>\n",
       "    </tr>\n",
       "    <tr>\n",
       "      <th>code</th>\n",
       "      <td>0</td>\n",
       "      <td>0.0</td>\n",
       "    </tr>\n",
       "    <tr>\n",
       "      <th>value</th>\n",
       "      <td>0</td>\n",
       "      <td>0.0</td>\n",
       "    </tr>\n",
       "    <tr>\n",
       "      <th>character</th>\n",
       "      <td>0</td>\n",
       "      <td>0.0</td>\n",
       "    </tr>\n",
       "  </tbody>\n",
       "</table>\n",
       "</div>"
      ],
      "text/plain": [
       "           Total  Percentage\n",
       "suite_id       0         0.0\n",
       "sample_id      0         0.0\n",
       "code           0         0.0\n",
       "value          0         0.0\n",
       "character      0         0.0"
      ]
     },
     "execution_count": 7,
     "metadata": {},
     "output_type": "execute_result"
    }
   ],
   "source": [
    "checking_nans(dataset_raw)"
   ]
  },
  {
   "cell_type": "markdown",
   "metadata": {},
   "source": [
    "There are no NaN values, so we can proceed without doing any modification in this case.\n",
    "\n",
    "The next step is to check if it is correctly labeled. In other words, to see if any of the images is labeled with a number that does not correspond to the information of said image in the dataset. \n",
    "\n",
    "We will check how many groups of three of code, value and character do exist"
   ]
  },
  {
   "cell_type": "code",
   "execution_count": 8,
   "metadata": {},
   "outputs": [],
   "source": [
    "#To check if there is wrong labelling\n",
    "dataset_unique = dataset_raw.drop([\"suite_id\", \"sample_id\"], 'columns')"
   ]
  },
  {
   "cell_type": "code",
   "execution_count": 9,
   "metadata": {},
   "outputs": [],
   "source": [
    "def checking_wrong_labelling(dataset):\n",
    "    return pd.DataFrame(dataset.value_counts())\n",
    "    "
   ]
  },
  {
   "cell_type": "code",
   "execution_count": 10,
   "metadata": {},
   "outputs": [
    {
     "data": {
      "text/html": [
       "<div>\n",
       "<style scoped>\n",
       "    .dataframe tbody tr th:only-of-type {\n",
       "        vertical-align: middle;\n",
       "    }\n",
       "\n",
       "    .dataframe tbody tr th {\n",
       "        vertical-align: top;\n",
       "    }\n",
       "\n",
       "    .dataframe thead th {\n",
       "        text-align: right;\n",
       "    }\n",
       "</style>\n",
       "<table border=\"1\" class=\"dataframe\">\n",
       "  <thead>\n",
       "    <tr style=\"text-align: right;\">\n",
       "      <th></th>\n",
       "      <th></th>\n",
       "      <th></th>\n",
       "      <th>0</th>\n",
       "    </tr>\n",
       "    <tr>\n",
       "      <th>code</th>\n",
       "      <th>value</th>\n",
       "      <th>character</th>\n",
       "      <th></th>\n",
       "    </tr>\n",
       "  </thead>\n",
       "  <tbody>\n",
       "    <tr>\n",
       "      <th>1</th>\n",
       "      <th>0</th>\n",
       "      <th>零</th>\n",
       "      <td>1000</td>\n",
       "    </tr>\n",
       "    <tr>\n",
       "      <th>2</th>\n",
       "      <th>1</th>\n",
       "      <th>一</th>\n",
       "      <td>1000</td>\n",
       "    </tr>\n",
       "    <tr>\n",
       "      <th>3</th>\n",
       "      <th>2</th>\n",
       "      <th>二</th>\n",
       "      <td>1000</td>\n",
       "    </tr>\n",
       "    <tr>\n",
       "      <th>4</th>\n",
       "      <th>3</th>\n",
       "      <th>三</th>\n",
       "      <td>1000</td>\n",
       "    </tr>\n",
       "    <tr>\n",
       "      <th>5</th>\n",
       "      <th>4</th>\n",
       "      <th>四</th>\n",
       "      <td>1000</td>\n",
       "    </tr>\n",
       "    <tr>\n",
       "      <th>6</th>\n",
       "      <th>5</th>\n",
       "      <th>五</th>\n",
       "      <td>1000</td>\n",
       "    </tr>\n",
       "    <tr>\n",
       "      <th>7</th>\n",
       "      <th>6</th>\n",
       "      <th>六</th>\n",
       "      <td>1000</td>\n",
       "    </tr>\n",
       "    <tr>\n",
       "      <th>8</th>\n",
       "      <th>7</th>\n",
       "      <th>七</th>\n",
       "      <td>1000</td>\n",
       "    </tr>\n",
       "    <tr>\n",
       "      <th>9</th>\n",
       "      <th>8</th>\n",
       "      <th>八</th>\n",
       "      <td>1000</td>\n",
       "    </tr>\n",
       "    <tr>\n",
       "      <th>10</th>\n",
       "      <th>9</th>\n",
       "      <th>九</th>\n",
       "      <td>1000</td>\n",
       "    </tr>\n",
       "    <tr>\n",
       "      <th>11</th>\n",
       "      <th>10</th>\n",
       "      <th>十</th>\n",
       "      <td>1000</td>\n",
       "    </tr>\n",
       "    <tr>\n",
       "      <th>12</th>\n",
       "      <th>100</th>\n",
       "      <th>百</th>\n",
       "      <td>1000</td>\n",
       "    </tr>\n",
       "    <tr>\n",
       "      <th>13</th>\n",
       "      <th>1000</th>\n",
       "      <th>千</th>\n",
       "      <td>1000</td>\n",
       "    </tr>\n",
       "    <tr>\n",
       "      <th>14</th>\n",
       "      <th>10000</th>\n",
       "      <th>万</th>\n",
       "      <td>1000</td>\n",
       "    </tr>\n",
       "    <tr>\n",
       "      <th>15</th>\n",
       "      <th>100000000</th>\n",
       "      <th>亿</th>\n",
       "      <td>1000</td>\n",
       "    </tr>\n",
       "  </tbody>\n",
       "</table>\n",
       "</div>"
      ],
      "text/plain": [
       "                             0\n",
       "code value     character      \n",
       "1    0         零          1000\n",
       "2    1         一          1000\n",
       "3    2         二          1000\n",
       "4    3         三          1000\n",
       "5    4         四          1000\n",
       "6    5         五          1000\n",
       "7    6         六          1000\n",
       "8    7         七          1000\n",
       "9    8         八          1000\n",
       "10   9         九          1000\n",
       "11   10        十          1000\n",
       "12   100       百          1000\n",
       "13   1000      千          1000\n",
       "14   10000     万          1000\n",
       "15   100000000 亿          1000"
      ]
     },
     "execution_count": 10,
     "metadata": {},
     "output_type": "execute_result"
    }
   ],
   "source": [
    "checking_wrong_labelling(dataset_unique)"
   ]
  },
  {
   "cell_type": "markdown",
   "metadata": {},
   "source": [
    "There is no mislabelling, and we can see which value does each code representents and its chinese character.\n",
    "\n",
    "There might be missmatching between the labelling of the dataframes and the images, but if there is, we will find it out during the testing phase looking at the wrong predictions."
   ]
  },
  {
   "cell_type": "markdown",
   "metadata": {},
   "source": [
    "#### Studying distributions"
   ]
  },
  {
   "cell_type": "markdown",
   "metadata": {},
   "source": [
    "Looking at the values of the last table, we expect to have the same number of samples for each value in each colums. Nonethells, we  will check this doing some graphs of the distributions."
   ]
  },
  {
   "cell_type": "code",
   "execution_count": 11,
   "metadata": {},
   "outputs": [
    {
     "name": "stdout",
     "output_type": "stream",
     "text": [
      "Number of suites: 100\n",
      "Samples: 10: [1, 10, 2, 3, 4, 5, 6, 7, 8, 9]\n"
     ]
    }
   ],
   "source": [
    "print(f\"Number of suites: {dataset_raw.suite_id.nunique()}\")\n",
    "print(f\"Samples: {dataset_raw.sample_id.nunique()}: {list(dataset_raw.sample_id.unique())}\")\n"
   ]
  },
  {
   "cell_type": "code",
   "execution_count": 12,
   "metadata": {},
   "outputs": [
    {
     "data": {
      "text/plain": [
       "<AxesSubplot:xlabel='suite_id', ylabel='count'>"
      ]
     },
     "execution_count": 12,
     "metadata": {},
     "output_type": "execute_result"
    },
    {
     "data": {
      "image/png": "[encoded data removed]",
      "text/plain": [
       "<Figure size 640x480 with 1 Axes>"
      ]
     },
     "metadata": {},
     "output_type": "display_data"
    }
   ],
   "source": [
    "sns.countplot(dataset_raw[\"suite_id\"], order = dataset_raw[\"suite_id\"].value_counts().index[:], palette='Set2')"
   ]
  },
  {
   "cell_type": "code",
   "execution_count": 13,
   "metadata": {},
   "outputs": [],
   "source": [
    "def plot_distribution(dataset,feature):\n",
    "    f, ax = plt.subplots(1,1, figsize=(16,4))\n",
    "    total = float(len(dataset))\n",
    "    g = sns.countplot(dataset[feature], order = dataset_raw[feature].value_counts().index[:], palette='Set2')\n",
    "    g.set_title(\"Number of {}\".format(feature))\n",
    "    plt.show()  "
   ]
  },
  {
   "cell_type": "code",
   "execution_count": 14,
   "metadata": {},
   "outputs": [
    {
     "data": {
      "image/png": "[encoded data removed]",
      "text/plain": [
       "<Figure size 1600x400 with 1 Axes>"
      ]
     },
     "metadata": {},
     "output_type": "display_data"
    }
   ],
   "source": [
    "plot_distribution(dataset_raw,\"suite_id\")"
   ]
  },
  {
   "cell_type": "code",
   "execution_count": 15,
   "metadata": {},
   "outputs": [
    {
     "data": {
      "image/png": "[encoded data removed]",
      "text/plain": [
       "<Figure size 1600x400 with 1 Axes>"
      ]
     },
     "metadata": {},
     "output_type": "display_data"
    }
   ],
   "source": [
    "plot_distribution(dataset_raw,\"sample_id\")"
   ]
  },
  {
   "cell_type": "markdown",
   "metadata": {},
   "source": [
    "As expected, in each of the graphics the values of the y-axis are the same, as we expected given that each participant handwrote the same amount of numbers for all the values in the dataset"
   ]
  },
  {
   "cell_type": "markdown",
   "metadata": {},
   "source": [
    "#### Image exploration"
   ]
  },
  {
   "cell_type": "code",
   "execution_count": 16,
   "metadata": {},
   "outputs": [
    {
     "name": "stdout",
     "output_type": "stream",
     "text": [
      "Number of image files: 15000\n"
     ]
    }
   ],
   "source": [
    "image_files = list(os.listdir(\"./chinese-mnist/data/data\"))\n",
    "print(\"Number of image files: {}\".format(len(image_files)))"
   ]
  },
  {
   "cell_type": "markdown",
   "metadata": {},
   "source": [
    "Lets check if all images have the same size. We will use the skimage library. The following function return the image sizes, to make sure that all images are same size"
   ]
  },
  {
   "cell_type": "code",
   "execution_count": 17,
   "metadata": {},
   "outputs": [],
   "source": [
    "def read_image_sizes(file_name):\n",
    "    image = skimage.io.imread(IMAGE_PATH + file_name)\n",
    "    return (image.shape)"
   ]
  },
  {
   "cell_type": "code",
   "execution_count": 18,
   "metadata": {},
   "outputs": [
    {
     "name": "stdout",
     "output_type": "stream",
     "text": [
      "{(64, 64)}\n"
     ]
    }
   ],
   "source": [
    "sizes = map(read_image_sizes,image_files)\n",
    "print(set(sizes)) #The set return unique tuples\n"
   ]
  },
  {
   "cell_type": "markdown",
   "metadata": {},
   "source": [
    "All images are 64x64, so we won't need to resize any image. Let's add to the dataset a column giving information of the width and the height of each photo, just in case."
   ]
  },
  {
   "cell_type": "code",
   "execution_count": 19,
   "metadata": {},
   "outputs": [],
   "source": [
    "dataset_with_images = dataset_raw\n",
    "dataset_with_images['w']=64\n",
    "dataset_with_images['h']=64"
   ]
  },
  {
   "cell_type": "markdown",
   "metadata": {},
   "source": [
    "Now we need to add to each row the corresponding image using the pattern specified earlier. To do so we create a function, and we apply it to the dataset."
   ]
  },
  {
   "cell_type": "code",
   "execution_count": 20,
   "metadata": {},
   "outputs": [],
   "source": [
    "def create_file_name(x):\n",
    "    file_name = f\"input_{x[0]}_{x[1]}_{x[2]}.jpg\" \n",
    "    return file_name"
   ]
  },
  {
   "cell_type": "code",
   "execution_count": 21,
   "metadata": {},
   "outputs": [
    {
     "data": {
      "text/html": [
       "<div>\n",
       "<style scoped>\n",
       "    .dataframe tbody tr th:only-of-type {\n",
       "        vertical-align: middle;\n",
       "    }\n",
       "\n",
       "    .dataframe tbody tr th {\n",
       "        vertical-align: top;\n",
       "    }\n",
       "\n",
       "    .dataframe thead th {\n",
       "        text-align: right;\n",
       "    }\n",
       "</style>\n",
       "<table border=\"1\" class=\"dataframe\">\n",
       "  <thead>\n",
       "    <tr style=\"text-align: right;\">\n",
       "      <th></th>\n",
       "      <th>suite_id</th>\n",
       "      <th>sample_id</th>\n",
       "      <th>code</th>\n",
       "      <th>value</th>\n",
       "      <th>character</th>\n",
       "      <th>w</th>\n",
       "      <th>h</th>\n",
       "      <th>file_name</th>\n",
       "    </tr>\n",
       "  </thead>\n",
       "  <tbody>\n",
       "    <tr>\n",
       "      <th>0</th>\n",
       "      <td>1</td>\n",
       "      <td>1</td>\n",
       "      <td>10</td>\n",
       "      <td>9</td>\n",
       "      <td>九</td>\n",
       "      <td>64</td>\n",
       "      <td>64</td>\n",
       "      <td>input_1_1_10.jpg</td>\n",
       "    </tr>\n",
       "    <tr>\n",
       "      <th>1</th>\n",
       "      <td>1</td>\n",
       "      <td>10</td>\n",
       "      <td>10</td>\n",
       "      <td>9</td>\n",
       "      <td>九</td>\n",
       "      <td>64</td>\n",
       "      <td>64</td>\n",
       "      <td>input_1_10_10.jpg</td>\n",
       "    </tr>\n",
       "    <tr>\n",
       "      <th>2</th>\n",
       "      <td>1</td>\n",
       "      <td>2</td>\n",
       "      <td>10</td>\n",
       "      <td>9</td>\n",
       "      <td>九</td>\n",
       "      <td>64</td>\n",
       "      <td>64</td>\n",
       "      <td>input_1_2_10.jpg</td>\n",
       "    </tr>\n",
       "    <tr>\n",
       "      <th>3</th>\n",
       "      <td>1</td>\n",
       "      <td>3</td>\n",
       "      <td>10</td>\n",
       "      <td>9</td>\n",
       "      <td>九</td>\n",
       "      <td>64</td>\n",
       "      <td>64</td>\n",
       "      <td>input_1_3_10.jpg</td>\n",
       "    </tr>\n",
       "    <tr>\n",
       "      <th>4</th>\n",
       "      <td>1</td>\n",
       "      <td>4</td>\n",
       "      <td>10</td>\n",
       "      <td>9</td>\n",
       "      <td>九</td>\n",
       "      <td>64</td>\n",
       "      <td>64</td>\n",
       "      <td>input_1_4_10.jpg</td>\n",
       "    </tr>\n",
       "  </tbody>\n",
       "</table>\n",
       "</div>"
      ],
      "text/plain": [
       "   suite_id  sample_id  code  value character   w   h          file_name\n",
       "0         1          1    10      9         九  64  64   input_1_1_10.jpg\n",
       "1         1         10    10      9         九  64  64  input_1_10_10.jpg\n",
       "2         1          2    10      9         九  64  64   input_1_2_10.jpg\n",
       "3         1          3    10      9         九  64  64   input_1_3_10.jpg\n",
       "4         1          4    10      9         九  64  64   input_1_4_10.jpg"
      ]
     },
     "execution_count": 21,
     "metadata": {},
     "output_type": "execute_result"
    }
   ],
   "source": [
    "dataset_with_images[\"file_name\"] = dataset_with_images.apply(create_file_name, axis=1)\n",
    "dataset_with_images.head()"
   ]
  },
  {
   "cell_type": "markdown",
   "metadata": {},
   "source": [
    "We save the new data set, so we can upload it without going through all the process again"
   ]
  },
  {
   "cell_type": "code",
   "execution_count": 22,
   "metadata": {},
   "outputs": [],
   "source": [
    "filepath = Path('./chinese-mnist/chinese_mnist_images.csv')  \n",
    "dataset_with_images.to_csv(filepath) \n",
    "#We save the new dataset"
   ]
  },
  {
   "cell_type": "markdown",
   "metadata": {},
   "source": [
    "Let's plot 20 random images to see how they look"
   ]
  },
  {
   "cell_type": "code",
   "execution_count": 23,
   "metadata": {
    "scrolled": true
   },
   "outputs": [
    {
     "data": {
      "image/png": "[encoded data removed]",
      "text/plain": [
       "<Figure size 2500x600 with 20 Axes>"
      ]
     },
     "metadata": {},
     "output_type": "display_data"
    }
   ],
   "source": [
    "f, ax = plt.subplots(2,10, figsize=(25,6))\n",
    "index = np.random.randint(15000, size=20) #20 random indexes to plot from\n",
    "\n",
    "for i,num in enumerate(index):\n",
    "    img_data = skimage.io.imread(IMAGE_PATH + image_files[num])\n",
    "    ax[i//10, i%10].imshow(img_data)\n",
    "    ax[i//10, i%10].axis('off')\n",
    "plt.show()"
   ]
  },
  {
   "cell_type": "markdown",
   "metadata": {},
   "source": [
    "Finally, we need to set up the dataset in order to be suitable for classification. Given that we only are going to use the images to train them, we can create an array that each position contains one image, and a target array that has the code associated to."
   ]
  },
  {
   "cell_type": "code",
   "execution_count": 24,
   "metadata": {},
   "outputs": [],
   "source": [
    "images = []\n",
    "for i in dataset_with_images['file_name']:\n",
    "    a = skimage.io.imread(IMAGE_PATH + i)\n",
    "    images.append(a)\n",
    "target = dataset_with_images['code']\n",
    "images = np.array(images)\n",
    "\n"
   ]
  },
  {
   "cell_type": "markdown",
   "metadata": {},
   "source": [
    "Now we have a list with all the images, and another list with all the targets (code), so we can proceed with fitting models."
   ]
  },
  {
   "cell_type": "markdown",
   "metadata": {},
   "source": [
    "## Machine Learning models"
   ]
  },
  {
   "cell_type": "markdown",
   "metadata": {},
   "source": [
    "The dataset fits perfectly to use CNN, and we will create such a model, but before we will try to do KNN (supervised model), a RandomForestClassifier (bagging ensamble method) and XGBoost (boosting ensamble method). \n",
    "Firstly we will only use accuracy to discriminate between the models and see if they are worth more training and more study or not, and then search for the best hyperparameters"
   ]
  },
  {
   "cell_type": "markdown",
   "metadata": {},
   "source": [
    "#### Packages for modelling"
   ]
  },
  {
   "cell_type": "code",
   "execution_count": 25,
   "metadata": {},
   "outputs": [],
   "source": [
    "from sklearn.model_selection import StratifiedShuffleSplit\n",
    "from sklearn.model_selection import train_test_split\n",
    "from sklearn import metrics\n",
    "from sklearn.neighbors import KNeighborsClassifier\n",
    "from sklearn.ensemble import RandomForestClassifier\n",
    "from sklearn.preprocessing import StandardScaler\n",
    "from xgboost import XGBClassifier\n",
    "import time"
   ]
  },
  {
   "cell_type": "markdown",
   "metadata": {},
   "source": [
    "We split the train and test data. Since we have the same amount of data for each class, it is important to keep the proportionality during the training and testing, so we are sure that if a class underperforms it is not because there was not enough data for the training. We do a KFolds cross-validation to avoid overfitting and be able to see which models are better.\n",
    "For all this models we need to flatten our images and standarize.\n",
    "\n",
    "Note: During the stratification, it only takes into account the code, so there might be handwritting from someone that does not appear. While this most likely will decrease the accuracy, it is of our interest to see if the model can classify correctly the number of a handwrittin never seen before"
   ]
  },
  {
   "cell_type": "code",
   "execution_count": 137,
   "metadata": {},
   "outputs": [],
   "source": [
    "flat_images = images.reshape(15000,4096)\n",
    "\n",
    "sc = StandardScaler()\n",
    "X_std = sc.fit_transform(flat_images)\n",
    "\n",
    "\n",
    "CV_Splits = StratifiedShuffleSplit(n_splits=5, test_size=0.2, random_state=0)\n",
    "n_splits = 5\n",
    "train_idx = []\n",
    "test_idx = []\n",
    "for i, (train_index, test_index) in enumerate(CV_Splits.split(flat_images, target)):\n",
    "    train_idx.append(train_index)\n",
    "    test_idx.append(test_index)"
   ]
  },
  {
   "cell_type": "markdown",
   "metadata": {},
   "source": [
    "We define a train and test function suitable for all models."
   ]
  },
  {
   "cell_type": "code",
   "execution_count": 138,
   "metadata": {},
   "outputs": [],
   "source": [
    "def train(method,params,X,y):\n",
    "    model = method(**params)\n",
    "    model.fit(X,y)\n",
    "    return model"
   ]
  },
  {
   "cell_type": "code",
   "execution_count": 139,
   "metadata": {},
   "outputs": [],
   "source": [
    "def test(model, X, y):\n",
    "    return model.score(X,y)"
   ]
  },
  {
   "cell_type": "markdown",
   "metadata": {},
   "source": [
    "#### KNN"
   ]
  },
  {
   "cell_type": "code",
   "execution_count": 352,
   "metadata": {},
   "outputs": [
    {
     "name": "stdout",
     "output_type": "stream",
     "text": [
      "[0.6513333333333333, 0.6510833333333333, 0.65125, 0.6466666666666666, 0.6518333333333334]\n",
      "[0.4136666666666667, 0.4056666666666667, 0.41533333333333333, 0.4093333333333333, 0.4146666666666667]\n",
      "Temps transcurrit: 337.9129738807678\n"
     ]
    }
   ],
   "source": [
    "acc_test = []\n",
    "acc_train = []\n",
    "params = {'n_neighbors':2}\n",
    "\n",
    "t1 = time.time()\n",
    "\n",
    "for tr_idx,te_idx in zip(train_idx, test_idx):\n",
    "    KNN = train(KNeighborsClassifier,params,flat_images[tr_idx],target[tr_idx])\n",
    "    acc_train.append(test(KNN,flat_images[tr_idx],target[tr_idx]))\n",
    "    acc_test.append(test(KNN,flat_images[te_idx],target[te_idx]))\n",
    "\n",
    "print(acc_train)\n",
    "print(acc_test)\n",
    "print(\"Temps transcurrit:\",time.time()-t1)"
   ]
  },
  {
   "cell_type": "markdown",
   "metadata": {},
   "source": [
    "The model does not perform really well, and it is quite computationally expensive"
   ]
  },
  {
   "cell_type": "markdown",
   "metadata": {},
   "source": [
    "#### Random Forest Classifier"
   ]
  },
  {
   "cell_type": "code",
   "execution_count": 353,
   "metadata": {},
   "outputs": [
    {
     "name": "stdout",
     "output_type": "stream",
     "text": [
      "[0.9420833333333334, 0.9456666666666667, 0.9424166666666667, 0.943, 0.9370833333333334]\n",
      "[0.5643333333333334, 0.5526666666666666, 0.5436666666666666, 0.5686666666666667, 0.558]\n",
      "Temps transcurrit: 44.9534547328949\n"
     ]
    }
   ],
   "source": [
    "acc_test = []\n",
    "acc_train = []\n",
    "params = { 'n_estimators': 50,\n",
    "          'max_depth': 15}\n",
    "\n",
    "t1 = time.time()\n",
    "\n",
    "for tr_idx,te_idx in zip(train_idx, test_idx):\n",
    "    RFC=train(RandomForestClassifier,params,flat_images[tr_idx],target[tr_idx])\n",
    "    acc_train.append(test(RFC,flat_images[tr_idx],target[tr_idx]))\n",
    "    acc_test.append(test(RFC,flat_images[te_idx],target[te_idx]))\n",
    "\n",
    "print(acc_train)\n",
    "print(acc_test)\n",
    "\n",
    "print(\"Temps transcurrit:\",time.time()-t1)"
   ]
  },
  {
   "cell_type": "markdown",
   "metadata": {},
   "source": [
    "It performs better than the KNN, although we can see there is some overfitting. Given that is a Random Forest, it does not bother us the overfitting."
   ]
  },
  {
   "cell_type": "markdown",
   "metadata": {},
   "source": [
    "#### XGBoost"
   ]
  },
  {
   "cell_type": "code",
   "execution_count": 354,
   "metadata": {},
   "outputs": [
    {
     "name": "stdout",
     "output_type": "stream",
     "text": [
      "[0.6525, 0.6505833333333333, 0.6546666666666666, 0.64625, 0.6486666666666666]\n",
      "[0.44433333333333336, 0.4246666666666667, 0.42, 0.43, 0.436]\n",
      "Temps transcurrit: 573.5872781276703\n"
     ]
    }
   ],
   "source": [
    "acc_test = []\n",
    "acc_train = []\n",
    "params = {'n_estimators':3,\n",
    "        'objective': 'multi:softmax'}\n",
    "\n",
    "t1 = time.time()\n",
    "\n",
    "for tr_idx,te_idx in zip(train_idx, test_idx):\n",
    "    XGBC = train(XGBClassifier,params,flat_images[tr_idx],target[tr_idx]-1)\n",
    "    acc_test.append(test(XGBC,flat_images[te_idx],target[te_idx]-1))\n",
    "    acc_train.append(test(XGBC,flat_images[tr_idx],target[tr_idx]-1))\n",
    "\n",
    "print(acc_train)\n",
    "print(acc_test)\n",
    "print(\"Temps transcurrit:\",time.time()-t1)\n"
   ]
  },
  {
   "cell_type": "markdown",
   "metadata": {},
   "source": [
    "It has results similar to KNN models, low accuracy and high time elapsed. We would need more estimators to achieve better results, since the more trees the better results should get.\n",
    "\n",
    "The table to compare all the results is the following. "
   ]
  },
  {
   "cell_type": "markdown",
   "metadata": {},
   "source": [
    "| Model | Mean Train Accuracy (%) | Mean Test Accuracy (%) | Time Elapsed (s) |\n",
    "| ----------------|---------------|-----------------|-----------------|\n",
    "| KNN | 65 | 41 | 338 |\n",
    "| RandomForestClassifier | 94 | 55 | 45 |\n",
    "| XGBoost | 65 | 43 | 573 |"
   ]
  },
  {
   "cell_type": "markdown",
   "metadata": {},
   "source": [
    "Random Forest is clearly the best out of the three."
   ]
  },
  {
   "cell_type": "markdown",
   "metadata": {},
   "source": [
    "### Hyperparameter Search"
   ]
  },
  {
   "cell_type": "markdown",
   "metadata": {},
   "source": [
    "CrossValidation helps use to avoid any overfitting, and also to see which models perfom better. It is also used for Hyperparameter Search, the next step to improve our models (those are for testing, the one that will give us good results is the CNN). Seeing that KNN and XGBoost take quite a time with parameters set at very low values, we will only perfom Hyperparameter Tunning with RandomForest, the model that has given us the best result yet.\n",
    "We will search for the optimal parameters with successive halving, given that a complete grid search could take quite long with the cpu that is being used."
   ]
  },
  {
   "cell_type": "code",
   "execution_count": 140,
   "metadata": {},
   "outputs": [
    {
     "data": {
      "text/plain": [
       "RandomForestClassifier(max_depth=50, min_samples_split=10, n_estimators=200,\n",
       "                       random_state=0)"
      ]
     },
     "execution_count": 140,
     "metadata": {},
     "output_type": "execute_result"
    }
   ],
   "source": [
    "from sklearn.experimental import enable_halving_search_cv\n",
    "from sklearn.model_selection import HalvingGridSearchCV\n",
    "\n",
    "base_estimator = RandomForestClassifier(random_state=0)\n",
    "param_grid = {'max_depth': [25, 50, None],\n",
    "                'min_samples_split': [10, 20],\n",
    "                 'criterion': [\"gini\"],\n",
    "                 'n_estimators': [25, 200]}\n",
    "\n",
    "sh = HalvingGridSearchCV(base_estimator, param_grid, cv=4,\n",
    "                    factor=2, min_resources = 'exhaust',\n",
    "                         aggressive_elimination=True,n_jobs=-1).fit(flat_images, target)\n",
    "\n",
    "sh.best_estimator_"
   ]
  },
  {
   "cell_type": "markdown",
   "metadata": {},
   "source": [
    "Those are the best combination of parameters out of all the possibles. Below it's the dataset with the result of all the combinations, and it also tells us at which iteration each combination faded."
   ]
  },
  {
   "cell_type": "code",
   "execution_count": 141,
   "metadata": {},
   "outputs": [
    {
     "data": {
      "text/html": [
       "<div>\n",
       "<style scoped>\n",
       "    .dataframe tbody tr th:only-of-type {\n",
       "        vertical-align: middle;\n",
       "    }\n",
       "\n",
       "    .dataframe tbody tr th {\n",
       "        vertical-align: top;\n",
       "    }\n",
       "\n",
       "    .dataframe thead th {\n",
       "        text-align: right;\n",
       "    }\n",
       "</style>\n",
       "<table border=\"1\" class=\"dataframe\">\n",
       "  <thead>\n",
       "    <tr style=\"text-align: right;\">\n",
       "      <th></th>\n",
       "      <th>iter</th>\n",
       "      <th>n_resources</th>\n",
       "      <th>mean_fit_time</th>\n",
       "      <th>std_fit_time</th>\n",
       "      <th>mean_score_time</th>\n",
       "      <th>std_score_time</th>\n",
       "      <th>param_criterion</th>\n",
       "      <th>param_max_depth</th>\n",
       "      <th>param_min_samples_split</th>\n",
       "      <th>param_n_estimators</th>\n",
       "      <th>...</th>\n",
       "      <th>split3_test_score</th>\n",
       "      <th>mean_test_score</th>\n",
       "      <th>std_test_score</th>\n",
       "      <th>rank_test_score</th>\n",
       "      <th>split0_train_score</th>\n",
       "      <th>split1_train_score</th>\n",
       "      <th>split2_train_score</th>\n",
       "      <th>split3_train_score</th>\n",
       "      <th>mean_train_score</th>\n",
       "      <th>std_train_score</th>\n",
       "    </tr>\n",
       "  </thead>\n",
       "  <tbody>\n",
       "    <tr>\n",
       "      <th>0</th>\n",
       "      <td>0</td>\n",
       "      <td>1875</td>\n",
       "      <td>4.092575</td>\n",
       "      <td>0.072989</td>\n",
       "      <td>0.199141</td>\n",
       "      <td>0.058325</td>\n",
       "      <td>gini</td>\n",
       "      <td>25</td>\n",
       "      <td>10</td>\n",
       "      <td>25</td>\n",
       "      <td>...</td>\n",
       "      <td>0.335470</td>\n",
       "      <td>0.383547</td>\n",
       "      <td>0.041115</td>\n",
       "      <td>20</td>\n",
       "      <td>0.989331</td>\n",
       "      <td>0.987909</td>\n",
       "      <td>0.987909</td>\n",
       "      <td>0.988620</td>\n",
       "      <td>0.988442</td>\n",
       "      <td>0.000590</td>\n",
       "    </tr>\n",
       "    <tr>\n",
       "      <th>1</th>\n",
       "      <td>0</td>\n",
       "      <td>1875</td>\n",
       "      <td>19.483988</td>\n",
       "      <td>0.188707</td>\n",
       "      <td>0.541813</td>\n",
       "      <td>0.040045</td>\n",
       "      <td>gini</td>\n",
       "      <td>25</td>\n",
       "      <td>10</td>\n",
       "      <td>200</td>\n",
       "      <td>...</td>\n",
       "      <td>0.442308</td>\n",
       "      <td>0.487179</td>\n",
       "      <td>0.052882</td>\n",
       "      <td>14</td>\n",
       "      <td>0.997866</td>\n",
       "      <td>1.000000</td>\n",
       "      <td>0.997866</td>\n",
       "      <td>0.999289</td>\n",
       "      <td>0.998755</td>\n",
       "      <td>0.000924</td>\n",
       "    </tr>\n",
       "    <tr>\n",
       "      <th>2</th>\n",
       "      <td>0</td>\n",
       "      <td>1875</td>\n",
       "      <td>2.084248</td>\n",
       "      <td>0.054692</td>\n",
       "      <td>0.102766</td>\n",
       "      <td>0.027284</td>\n",
       "      <td>gini</td>\n",
       "      <td>25</td>\n",
       "      <td>20</td>\n",
       "      <td>25</td>\n",
       "      <td>...</td>\n",
       "      <td>0.331197</td>\n",
       "      <td>0.368590</td>\n",
       "      <td>0.032912</td>\n",
       "      <td>21</td>\n",
       "      <td>0.922475</td>\n",
       "      <td>0.930299</td>\n",
       "      <td>0.934566</td>\n",
       "      <td>0.937411</td>\n",
       "      <td>0.931188</td>\n",
       "      <td>0.005631</td>\n",
       "    </tr>\n",
       "    <tr>\n",
       "      <th>3</th>\n",
       "      <td>0</td>\n",
       "      <td>1875</td>\n",
       "      <td>19.842775</td>\n",
       "      <td>0.598885</td>\n",
       "      <td>0.722919</td>\n",
       "      <td>0.242674</td>\n",
       "      <td>gini</td>\n",
       "      <td>25</td>\n",
       "      <td>20</td>\n",
       "      <td>200</td>\n",
       "      <td>...</td>\n",
       "      <td>0.405983</td>\n",
       "      <td>0.454060</td>\n",
       "      <td>0.055934</td>\n",
       "      <td>17</td>\n",
       "      <td>0.975818</td>\n",
       "      <td>0.987198</td>\n",
       "      <td>0.978663</td>\n",
       "      <td>0.977952</td>\n",
       "      <td>0.979908</td>\n",
       "      <td>0.004337</td>\n",
       "    </tr>\n",
       "    <tr>\n",
       "      <th>4</th>\n",
       "      <td>0</td>\n",
       "      <td>1875</td>\n",
       "      <td>2.727527</td>\n",
       "      <td>0.023219</td>\n",
       "      <td>0.093129</td>\n",
       "      <td>0.012526</td>\n",
       "      <td>gini</td>\n",
       "      <td>50</td>\n",
       "      <td>10</td>\n",
       "      <td>25</td>\n",
       "      <td>...</td>\n",
       "      <td>0.348291</td>\n",
       "      <td>0.387821</td>\n",
       "      <td>0.037271</td>\n",
       "      <td>18</td>\n",
       "      <td>0.989331</td>\n",
       "      <td>0.990754</td>\n",
       "      <td>0.991465</td>\n",
       "      <td>0.990043</td>\n",
       "      <td>0.990398</td>\n",
       "      <td>0.000795</td>\n",
       "    </tr>\n",
       "    <tr>\n",
       "      <th>5</th>\n",
       "      <td>0</td>\n",
       "      <td>1875</td>\n",
       "      <td>18.354759</td>\n",
       "      <td>0.044347</td>\n",
       "      <td>0.405909</td>\n",
       "      <td>0.017279</td>\n",
       "      <td>gini</td>\n",
       "      <td>50</td>\n",
       "      <td>10</td>\n",
       "      <td>200</td>\n",
       "      <td>...</td>\n",
       "      <td>0.440171</td>\n",
       "      <td>0.491453</td>\n",
       "      <td>0.051282</td>\n",
       "      <td>12</td>\n",
       "      <td>0.998578</td>\n",
       "      <td>1.000000</td>\n",
       "      <td>0.998578</td>\n",
       "      <td>0.999289</td>\n",
       "      <td>0.999111</td>\n",
       "      <td>0.000590</td>\n",
       "    </tr>\n",
       "    <tr>\n",
       "      <th>6</th>\n",
       "      <td>0</td>\n",
       "      <td>1875</td>\n",
       "      <td>1.787483</td>\n",
       "      <td>0.051236</td>\n",
       "      <td>0.070591</td>\n",
       "      <td>0.015776</td>\n",
       "      <td>gini</td>\n",
       "      <td>50</td>\n",
       "      <td>20</td>\n",
       "      <td>25</td>\n",
       "      <td>...</td>\n",
       "      <td>0.335470</td>\n",
       "      <td>0.367521</td>\n",
       "      <td>0.034751</td>\n",
       "      <td>22</td>\n",
       "      <td>0.928876</td>\n",
       "      <td>0.930299</td>\n",
       "      <td>0.938834</td>\n",
       "      <td>0.931721</td>\n",
       "      <td>0.932432</td>\n",
       "      <td>0.003830</td>\n",
       "    </tr>\n",
       "    <tr>\n",
       "      <th>7</th>\n",
       "      <td>0</td>\n",
       "      <td>1875</td>\n",
       "      <td>13.519097</td>\n",
       "      <td>0.181150</td>\n",
       "      <td>0.378959</td>\n",
       "      <td>0.032157</td>\n",
       "      <td>gini</td>\n",
       "      <td>50</td>\n",
       "      <td>20</td>\n",
       "      <td>200</td>\n",
       "      <td>...</td>\n",
       "      <td>0.416667</td>\n",
       "      <td>0.462073</td>\n",
       "      <td>0.047955</td>\n",
       "      <td>15</td>\n",
       "      <td>0.975107</td>\n",
       "      <td>0.987198</td>\n",
       "      <td>0.980085</td>\n",
       "      <td>0.980085</td>\n",
       "      <td>0.980619</td>\n",
       "      <td>0.004308</td>\n",
       "    </tr>\n",
       "    <tr>\n",
       "      <th>8</th>\n",
       "      <td>0</td>\n",
       "      <td>1875</td>\n",
       "      <td>2.716247</td>\n",
       "      <td>0.496764</td>\n",
       "      <td>0.145003</td>\n",
       "      <td>0.108576</td>\n",
       "      <td>gini</td>\n",
       "      <td>None</td>\n",
       "      <td>10</td>\n",
       "      <td>25</td>\n",
       "      <td>...</td>\n",
       "      <td>0.348291</td>\n",
       "      <td>0.387821</td>\n",
       "      <td>0.037271</td>\n",
       "      <td>18</td>\n",
       "      <td>0.989331</td>\n",
       "      <td>0.990754</td>\n",
       "      <td>0.991465</td>\n",
       "      <td>0.990043</td>\n",
       "      <td>0.990398</td>\n",
       "      <td>0.000795</td>\n",
       "    </tr>\n",
       "    <tr>\n",
       "      <th>9</th>\n",
       "      <td>0</td>\n",
       "      <td>1875</td>\n",
       "      <td>20.761002</td>\n",
       "      <td>0.860900</td>\n",
       "      <td>1.192438</td>\n",
       "      <td>0.234302</td>\n",
       "      <td>gini</td>\n",
       "      <td>None</td>\n",
       "      <td>10</td>\n",
       "      <td>200</td>\n",
       "      <td>...</td>\n",
       "      <td>0.440171</td>\n",
       "      <td>0.491453</td>\n",
       "      <td>0.051282</td>\n",
       "      <td>12</td>\n",
       "      <td>0.998578</td>\n",
       "      <td>1.000000</td>\n",
       "      <td>0.998578</td>\n",
       "      <td>0.999289</td>\n",
       "      <td>0.999111</td>\n",
       "      <td>0.000590</td>\n",
       "    </tr>\n",
       "    <tr>\n",
       "      <th>10</th>\n",
       "      <td>0</td>\n",
       "      <td>1875</td>\n",
       "      <td>2.542804</td>\n",
       "      <td>1.145315</td>\n",
       "      <td>0.078158</td>\n",
       "      <td>0.019869</td>\n",
       "      <td>gini</td>\n",
       "      <td>None</td>\n",
       "      <td>20</td>\n",
       "      <td>25</td>\n",
       "      <td>...</td>\n",
       "      <td>0.335470</td>\n",
       "      <td>0.367521</td>\n",
       "      <td>0.034751</td>\n",
       "      <td>22</td>\n",
       "      <td>0.928876</td>\n",
       "      <td>0.930299</td>\n",
       "      <td>0.938834</td>\n",
       "      <td>0.931721</td>\n",
       "      <td>0.932432</td>\n",
       "      <td>0.003830</td>\n",
       "    </tr>\n",
       "    <tr>\n",
       "      <th>11</th>\n",
       "      <td>0</td>\n",
       "      <td>1875</td>\n",
       "      <td>14.173672</td>\n",
       "      <td>0.073784</td>\n",
       "      <td>0.289761</td>\n",
       "      <td>0.044785</td>\n",
       "      <td>gini</td>\n",
       "      <td>None</td>\n",
       "      <td>20</td>\n",
       "      <td>200</td>\n",
       "      <td>...</td>\n",
       "      <td>0.416667</td>\n",
       "      <td>0.462073</td>\n",
       "      <td>0.047955</td>\n",
       "      <td>15</td>\n",
       "      <td>0.975107</td>\n",
       "      <td>0.987198</td>\n",
       "      <td>0.980085</td>\n",
       "      <td>0.980085</td>\n",
       "      <td>0.980619</td>\n",
       "      <td>0.004308</td>\n",
       "    </tr>\n",
       "    <tr>\n",
       "      <th>12</th>\n",
       "      <td>1</td>\n",
       "      <td>3750</td>\n",
       "      <td>31.698261</td>\n",
       "      <td>0.164075</td>\n",
       "      <td>0.681502</td>\n",
       "      <td>0.036222</td>\n",
       "      <td>gini</td>\n",
       "      <td>25</td>\n",
       "      <td>20</td>\n",
       "      <td>200</td>\n",
       "      <td>...</td>\n",
       "      <td>0.459979</td>\n",
       "      <td>0.494130</td>\n",
       "      <td>0.052376</td>\n",
       "      <td>11</td>\n",
       "      <td>0.974040</td>\n",
       "      <td>0.981863</td>\n",
       "      <td>0.975107</td>\n",
       "      <td>0.980085</td>\n",
       "      <td>0.977774</td>\n",
       "      <td>0.003283</td>\n",
       "    </tr>\n",
       "    <tr>\n",
       "      <th>13</th>\n",
       "      <td>1</td>\n",
       "      <td>3750</td>\n",
       "      <td>58.730788</td>\n",
       "      <td>1.043624</td>\n",
       "      <td>1.853228</td>\n",
       "      <td>0.153335</td>\n",
       "      <td>gini</td>\n",
       "      <td>50</td>\n",
       "      <td>20</td>\n",
       "      <td>200</td>\n",
       "      <td>...</td>\n",
       "      <td>0.452508</td>\n",
       "      <td>0.503202</td>\n",
       "      <td>0.054838</td>\n",
       "      <td>9</td>\n",
       "      <td>0.970128</td>\n",
       "      <td>0.985420</td>\n",
       "      <td>0.976885</td>\n",
       "      <td>0.979730</td>\n",
       "      <td>0.978041</td>\n",
       "      <td>0.005506</td>\n",
       "    </tr>\n",
       "    <tr>\n",
       "      <th>14</th>\n",
       "      <td>1</td>\n",
       "      <td>3750</td>\n",
       "      <td>37.425802</td>\n",
       "      <td>1.645631</td>\n",
       "      <td>1.950090</td>\n",
       "      <td>0.298785</td>\n",
       "      <td>gini</td>\n",
       "      <td>None</td>\n",
       "      <td>20</td>\n",
       "      <td>200</td>\n",
       "      <td>...</td>\n",
       "      <td>0.452508</td>\n",
       "      <td>0.503202</td>\n",
       "      <td>0.054838</td>\n",
       "      <td>9</td>\n",
       "      <td>0.970128</td>\n",
       "      <td>0.985420</td>\n",
       "      <td>0.976885</td>\n",
       "      <td>0.979730</td>\n",
       "      <td>0.978041</td>\n",
       "      <td>0.005506</td>\n",
       "    </tr>\n",
       "    <tr>\n",
       "      <th>15</th>\n",
       "      <td>1</td>\n",
       "      <td>3750</td>\n",
       "      <td>46.633944</td>\n",
       "      <td>0.909024</td>\n",
       "      <td>1.554112</td>\n",
       "      <td>0.181884</td>\n",
       "      <td>gini</td>\n",
       "      <td>25</td>\n",
       "      <td>10</td>\n",
       "      <td>200</td>\n",
       "      <td>...</td>\n",
       "      <td>0.491996</td>\n",
       "      <td>0.520011</td>\n",
       "      <td>0.047778</td>\n",
       "      <td>8</td>\n",
       "      <td>0.997866</td>\n",
       "      <td>0.998933</td>\n",
       "      <td>0.998222</td>\n",
       "      <td>0.997866</td>\n",
       "      <td>0.998222</td>\n",
       "      <td>0.000436</td>\n",
       "    </tr>\n",
       "    <tr>\n",
       "      <th>16</th>\n",
       "      <td>1</td>\n",
       "      <td>3750</td>\n",
       "      <td>47.103257</td>\n",
       "      <td>0.771323</td>\n",
       "      <td>0.691112</td>\n",
       "      <td>0.064444</td>\n",
       "      <td>gini</td>\n",
       "      <td>50</td>\n",
       "      <td>10</td>\n",
       "      <td>200</td>\n",
       "      <td>...</td>\n",
       "      <td>0.484525</td>\n",
       "      <td>0.520011</td>\n",
       "      <td>0.046681</td>\n",
       "      <td>6</td>\n",
       "      <td>0.999289</td>\n",
       "      <td>0.998933</td>\n",
       "      <td>0.999289</td>\n",
       "      <td>0.998222</td>\n",
       "      <td>0.998933</td>\n",
       "      <td>0.000436</td>\n",
       "    </tr>\n",
       "    <tr>\n",
       "      <th>17</th>\n",
       "      <td>1</td>\n",
       "      <td>3750</td>\n",
       "      <td>78.331642</td>\n",
       "      <td>4.304921</td>\n",
       "      <td>2.111001</td>\n",
       "      <td>0.885531</td>\n",
       "      <td>gini</td>\n",
       "      <td>None</td>\n",
       "      <td>10</td>\n",
       "      <td>200</td>\n",
       "      <td>...</td>\n",
       "      <td>0.484525</td>\n",
       "      <td>0.520011</td>\n",
       "      <td>0.046681</td>\n",
       "      <td>6</td>\n",
       "      <td>0.999289</td>\n",
       "      <td>0.998933</td>\n",
       "      <td>0.999289</td>\n",
       "      <td>0.998222</td>\n",
       "      <td>0.998933</td>\n",
       "      <td>0.000436</td>\n",
       "    </tr>\n",
       "    <tr>\n",
       "      <th>18</th>\n",
       "      <td>2</td>\n",
       "      <td>7500</td>\n",
       "      <td>95.366623</td>\n",
       "      <td>1.134522</td>\n",
       "      <td>1.595017</td>\n",
       "      <td>0.088388</td>\n",
       "      <td>gini</td>\n",
       "      <td>25</td>\n",
       "      <td>10</td>\n",
       "      <td>200</td>\n",
       "      <td>...</td>\n",
       "      <td>0.496000</td>\n",
       "      <td>0.543600</td>\n",
       "      <td>0.041556</td>\n",
       "      <td>5</td>\n",
       "      <td>0.995733</td>\n",
       "      <td>0.996800</td>\n",
       "      <td>0.994844</td>\n",
       "      <td>0.996089</td>\n",
       "      <td>0.995867</td>\n",
       "      <td>0.000704</td>\n",
       "    </tr>\n",
       "    <tr>\n",
       "      <th>19</th>\n",
       "      <td>2</td>\n",
       "      <td>7500</td>\n",
       "      <td>83.576135</td>\n",
       "      <td>1.194345</td>\n",
       "      <td>1.436128</td>\n",
       "      <td>0.061495</td>\n",
       "      <td>gini</td>\n",
       "      <td>50</td>\n",
       "      <td>10</td>\n",
       "      <td>200</td>\n",
       "      <td>...</td>\n",
       "      <td>0.504533</td>\n",
       "      <td>0.550933</td>\n",
       "      <td>0.046950</td>\n",
       "      <td>3</td>\n",
       "      <td>0.998578</td>\n",
       "      <td>0.999289</td>\n",
       "      <td>0.998578</td>\n",
       "      <td>0.999111</td>\n",
       "      <td>0.998889</td>\n",
       "      <td>0.000317</td>\n",
       "    </tr>\n",
       "    <tr>\n",
       "      <th>20</th>\n",
       "      <td>2</td>\n",
       "      <td>7500</td>\n",
       "      <td>104.377082</td>\n",
       "      <td>2.921059</td>\n",
       "      <td>2.998218</td>\n",
       "      <td>0.225099</td>\n",
       "      <td>gini</td>\n",
       "      <td>None</td>\n",
       "      <td>10</td>\n",
       "      <td>200</td>\n",
       "      <td>...</td>\n",
       "      <td>0.504533</td>\n",
       "      <td>0.550933</td>\n",
       "      <td>0.046950</td>\n",
       "      <td>3</td>\n",
       "      <td>0.998578</td>\n",
       "      <td>0.999289</td>\n",
       "      <td>0.998578</td>\n",
       "      <td>0.999111</td>\n",
       "      <td>0.998889</td>\n",
       "      <td>0.000317</td>\n",
       "    </tr>\n",
       "    <tr>\n",
       "      <th>21</th>\n",
       "      <td>3</td>\n",
       "      <td>15000</td>\n",
       "      <td>230.942744</td>\n",
       "      <td>2.276932</td>\n",
       "      <td>4.089516</td>\n",
       "      <td>0.687293</td>\n",
       "      <td>gini</td>\n",
       "      <td>50</td>\n",
       "      <td>10</td>\n",
       "      <td>200</td>\n",
       "      <td>...</td>\n",
       "      <td>0.562400</td>\n",
       "      <td>0.605333</td>\n",
       "      <td>0.039633</td>\n",
       "      <td>1</td>\n",
       "      <td>0.998578</td>\n",
       "      <td>0.998933</td>\n",
       "      <td>0.998578</td>\n",
       "      <td>0.998489</td>\n",
       "      <td>0.998644</td>\n",
       "      <td>0.000171</td>\n",
       "    </tr>\n",
       "    <tr>\n",
       "      <th>22</th>\n",
       "      <td>3</td>\n",
       "      <td>15000</td>\n",
       "      <td>261.234666</td>\n",
       "      <td>2.788682</td>\n",
       "      <td>3.636025</td>\n",
       "      <td>0.186214</td>\n",
       "      <td>gini</td>\n",
       "      <td>None</td>\n",
       "      <td>10</td>\n",
       "      <td>200</td>\n",
       "      <td>...</td>\n",
       "      <td>0.561600</td>\n",
       "      <td>0.605000</td>\n",
       "      <td>0.039022</td>\n",
       "      <td>2</td>\n",
       "      <td>0.998667</td>\n",
       "      <td>0.998844</td>\n",
       "      <td>0.998489</td>\n",
       "      <td>0.998489</td>\n",
       "      <td>0.998622</td>\n",
       "      <td>0.000147</td>\n",
       "    </tr>\n",
       "  </tbody>\n",
       "</table>\n",
       "<p>23 rows × 24 columns</p>\n",
       "</div>"
      ],
      "text/plain": [
       "    iter  n_resources  mean_fit_time  std_fit_time  mean_score_time  \\\n",
       "0      0         1875       4.092575      0.072989         0.199141   \n",
       "1      0         1875      19.483988      0.188707         0.541813   \n",
       "2      0         1875       2.084248      0.054692         0.102766   \n",
       "3      0         1875      19.842775      0.598885         0.722919   \n",
       "4      0         1875       2.727527      0.023219         0.093129   \n",
       "5      0         1875      18.354759      0.044347         0.405909   \n",
       "6      0         1875       1.787483      0.051236         0.070591   \n",
       "7      0         1875      13.519097      0.181150         0.378959   \n",
       "8      0         1875       2.716247      0.496764         0.145003   \n",
       "9      0         1875      20.761002      0.860900         1.192438   \n",
       "10     0         1875       2.542804      1.145315         0.078158   \n",
       "11     0         1875      14.173672      0.073784         0.289761   \n",
       "12     1         3750      31.698261      0.164075         0.681502   \n",
       "13     1         3750      58.730788      1.043624         1.853228   \n",
       "14     1         3750      37.425802      1.645631         1.950090   \n",
       "15     1         3750      46.633944      0.909024         1.554112   \n",
       "16     1         3750      47.103257      0.771323         0.691112   \n",
       "17     1         3750      78.331642      4.304921         2.111001   \n",
       "18     2         7500      95.366623      1.134522         1.595017   \n",
       "19     2         7500      83.576135      1.194345         1.436128   \n",
       "20     2         7500     104.377082      2.921059         2.998218   \n",
       "21     3        15000     230.942744      2.276932         4.089516   \n",
       "22     3        15000     261.234666      2.788682         3.636025   \n",
       "\n",
       "    std_score_time param_criterion param_max_depth param_min_samples_split  \\\n",
       "0         0.058325            gini              25                      10   \n",
       "1         0.040045            gini              25                      10   \n",
       "2         0.027284            gini              25                      20   \n",
       "3         0.242674            gini              25                      20   \n",
       "4         0.012526            gini              50                      10   \n",
       "5         0.017279            gini              50                      10   \n",
       "6         0.015776            gini              50                      20   \n",
       "7         0.032157            gini              50                      20   \n",
       "8         0.108576            gini            None                      10   \n",
       "9         0.234302            gini            None                      10   \n",
       "10        0.019869            gini            None                      20   \n",
       "11        0.044785            gini            None                      20   \n",
       "12        0.036222            gini              25                      20   \n",
       "13        0.153335            gini              50                      20   \n",
       "14        0.298785            gini            None                      20   \n",
       "15        0.181884            gini              25                      10   \n",
       "16        0.064444            gini              50                      10   \n",
       "17        0.885531            gini            None                      10   \n",
       "18        0.088388            gini              25                      10   \n",
       "19        0.061495            gini              50                      10   \n",
       "20        0.225099            gini            None                      10   \n",
       "21        0.687293            gini              50                      10   \n",
       "22        0.186214            gini            None                      10   \n",
       "\n",
       "   param_n_estimators  ... split3_test_score  mean_test_score  std_test_score  \\\n",
       "0                  25  ...          0.335470         0.383547        0.041115   \n",
       "1                 200  ...          0.442308         0.487179        0.052882   \n",
       "2                  25  ...          0.331197         0.368590        0.032912   \n",
       "3                 200  ...          0.405983         0.454060        0.055934   \n",
       "4                  25  ...          0.348291         0.387821        0.037271   \n",
       "5                 200  ...          0.440171         0.491453        0.051282   \n",
       "6                  25  ...          0.335470         0.367521        0.034751   \n",
       "7                 200  ...          0.416667         0.462073        0.047955   \n",
       "8                  25  ...          0.348291         0.387821        0.037271   \n",
       "9                 200  ...          0.440171         0.491453        0.051282   \n",
       "10                 25  ...          0.335470         0.367521        0.034751   \n",
       "11                200  ...          0.416667         0.462073        0.047955   \n",
       "12                200  ...          0.459979         0.494130        0.052376   \n",
       "13                200  ...          0.452508         0.503202        0.054838   \n",
       "14                200  ...          0.452508         0.503202        0.054838   \n",
       "15                200  ...          0.491996         0.520011        0.047778   \n",
       "16                200  ...          0.484525         0.520011        0.046681   \n",
       "17                200  ...          0.484525         0.520011        0.046681   \n",
       "18                200  ...          0.496000         0.543600        0.041556   \n",
       "19                200  ...          0.504533         0.550933        0.046950   \n",
       "20                200  ...          0.504533         0.550933        0.046950   \n",
       "21                200  ...          0.562400         0.605333        0.039633   \n",
       "22                200  ...          0.561600         0.605000        0.039022   \n",
       "\n",
       "    rank_test_score  split0_train_score  split1_train_score  \\\n",
       "0                20            0.989331            0.987909   \n",
       "1                14            0.997866            1.000000   \n",
       "2                21            0.922475            0.930299   \n",
       "3                17            0.975818            0.987198   \n",
       "4                18            0.989331            0.990754   \n",
       "5                12            0.998578            1.000000   \n",
       "6                22            0.928876            0.930299   \n",
       "7                15            0.975107            0.987198   \n",
       "8                18            0.989331            0.990754   \n",
       "9                12            0.998578            1.000000   \n",
       "10               22            0.928876            0.930299   \n",
       "11               15            0.975107            0.987198   \n",
       "12               11            0.974040            0.981863   \n",
       "13                9            0.970128            0.985420   \n",
       "14                9            0.970128            0.985420   \n",
       "15                8            0.997866            0.998933   \n",
       "16                6            0.999289            0.998933   \n",
       "17                6            0.999289            0.998933   \n",
       "18                5            0.995733            0.996800   \n",
       "19                3            0.998578            0.999289   \n",
       "20                3            0.998578            0.999289   \n",
       "21                1            0.998578            0.998933   \n",
       "22                2            0.998667            0.998844   \n",
       "\n",
       "    split2_train_score  split3_train_score  mean_train_score  std_train_score  \n",
       "0             0.987909            0.988620          0.988442         0.000590  \n",
       "1             0.997866            0.999289          0.998755         0.000924  \n",
       "2             0.934566            0.937411          0.931188         0.005631  \n",
       "3             0.978663            0.977952          0.979908         0.004337  \n",
       "4             0.991465            0.990043          0.990398         0.000795  \n",
       "5             0.998578            0.999289          0.999111         0.000590  \n",
       "6             0.938834            0.931721          0.932432         0.003830  \n",
       "7             0.980085            0.980085          0.980619         0.004308  \n",
       "8             0.991465            0.990043          0.990398         0.000795  \n",
       "9             0.998578            0.999289          0.999111         0.000590  \n",
       "10            0.938834            0.931721          0.932432         0.003830  \n",
       "11            0.980085            0.980085          0.980619         0.004308  \n",
       "12            0.975107            0.980085          0.977774         0.003283  \n",
       "13            0.976885            0.979730          0.978041         0.005506  \n",
       "14            0.976885            0.979730          0.978041         0.005506  \n",
       "15            0.998222            0.997866          0.998222         0.000436  \n",
       "16            0.999289            0.998222          0.998933         0.000436  \n",
       "17            0.999289            0.998222          0.998933         0.000436  \n",
       "18            0.994844            0.996089          0.995867         0.000704  \n",
       "19            0.998578            0.999111          0.998889         0.000317  \n",
       "20            0.998578            0.999111          0.998889         0.000317  \n",
       "21            0.998578            0.998489          0.998644         0.000171  \n",
       "22            0.998489            0.998489          0.998622         0.000147  \n",
       "\n",
       "[23 rows x 24 columns]"
      ]
     },
     "execution_count": 141,
     "metadata": {},
     "output_type": "execute_result"
    }
   ],
   "source": [
    "pd.DataFrame(sh.cv_results_)"
   ]
  },
  {
   "cell_type": "code",
   "execution_count": null,
   "metadata": {},
   "outputs": [],
   "source": [
    "| Model | Mean Train Accuracy (%) | Mean Test Accuracy (%) | Time Elapsed (s) |\n",
    "| ----------------|---------------|-----------------|-----------------|\n",
    "| KNN | 65 | 41 | 338 |\n",
    "| RandomForestClassifier | 94 | 55 | 45 |\n",
    "| XGBoost | 65 | 43 | 573 |"
   ]
  },
  {
   "cell_type": "markdown",
   "metadata": {},
   "source": [
    "Let's check what result do we achieve with a normal train and test split (stratified) with the best parameters found."
   ]
  },
  {
   "cell_type": "code",
   "execution_count": 146,
   "metadata": {},
   "outputs": [
    {
     "name": "stdout",
     "output_type": "stream",
     "text": [
      "0.9986666666666667\n",
      "0.6351111111111111\n",
      "Temps transcurrit: 183.58114504814148\n"
     ]
    }
   ],
   "source": [
    "X_train, X_test, y_train, y_test = train_test_split(flat_images, target, test_size=0.3, random_state=0,stratify=target)\n",
    "\n",
    "params = {'n_estimators':200, 'criterion':'gini','max_depth':50,\n",
    "         'min_samples_split':10, 'random_state':0}\n",
    "t1 = time.time()\n",
    "RFC = train(RandomForestClassifier,params,X_train,y_train)\n",
    "print(test(RFC,X_train,y_train))\n",
    "print(test(RFC,X_test,y_test))\n",
    "print(\"Temps transcurrit:\",time.time()-t1)\n",
    "\n"
   ]
  },
  {
   "cell_type": "markdown",
   "metadata": {},
   "source": [
    "There is clearly overfitting, but the accuracy achieved is quite decent, and given the nature of the dataset and how Random Forest works, we can ignore it a bit."
   ]
  },
  {
   "cell_type": "markdown",
   "metadata": {},
   "source": [
    "### Metric Analysis"
   ]
  },
  {
   "cell_type": "markdown",
   "metadata": {},
   "source": [
    "We have achieved a decent result for accuracy given that it is not the most suitable model for image classification. Nonetheless, accuracy is just one of the possible metrics, and it is of our interest to see how the model performs with other metrics.\n",
    "We will perform a confusion matrix, a Precision-Reecall graph and also evaluate the f1-score compared to other metrics of the model on the test. \n",
    "\n",
    "We can not compute a general confusion matrix using cross-validation, we can only compute the partials. Therefore, we will not use cross-validation to proceed with the metric analysis, to avoid saturation of graphics.\n",
    "\n",
    "First, let's have a look again on the corresponding character for each code"
   ]
  },
  {
   "cell_type": "code",
   "execution_count": 143,
   "metadata": {},
   "outputs": [
    {
     "data": {
      "text/html": [
       "<div>\n",
       "<style scoped>\n",
       "    .dataframe tbody tr th:only-of-type {\n",
       "        vertical-align: middle;\n",
       "    }\n",
       "\n",
       "    .dataframe tbody tr th {\n",
       "        vertical-align: top;\n",
       "    }\n",
       "\n",
       "    .dataframe thead th {\n",
       "        text-align: right;\n",
       "    }\n",
       "</style>\n",
       "<table border=\"1\" class=\"dataframe\">\n",
       "  <thead>\n",
       "    <tr style=\"text-align: right;\">\n",
       "      <th></th>\n",
       "      <th></th>\n",
       "      <th></th>\n",
       "      <th>0</th>\n",
       "    </tr>\n",
       "    <tr>\n",
       "      <th>code</th>\n",
       "      <th>value</th>\n",
       "      <th>character</th>\n",
       "      <th></th>\n",
       "    </tr>\n",
       "  </thead>\n",
       "  <tbody>\n",
       "    <tr>\n",
       "      <th>1</th>\n",
       "      <th>0</th>\n",
       "      <th>零</th>\n",
       "      <td>1000</td>\n",
       "    </tr>\n",
       "    <tr>\n",
       "      <th>2</th>\n",
       "      <th>1</th>\n",
       "      <th>一</th>\n",
       "      <td>1000</td>\n",
       "    </tr>\n",
       "    <tr>\n",
       "      <th>3</th>\n",
       "      <th>2</th>\n",
       "      <th>二</th>\n",
       "      <td>1000</td>\n",
       "    </tr>\n",
       "    <tr>\n",
       "      <th>4</th>\n",
       "      <th>3</th>\n",
       "      <th>三</th>\n",
       "      <td>1000</td>\n",
       "    </tr>\n",
       "    <tr>\n",
       "      <th>5</th>\n",
       "      <th>4</th>\n",
       "      <th>四</th>\n",
       "      <td>1000</td>\n",
       "    </tr>\n",
       "    <tr>\n",
       "      <th>6</th>\n",
       "      <th>5</th>\n",
       "      <th>五</th>\n",
       "      <td>1000</td>\n",
       "    </tr>\n",
       "    <tr>\n",
       "      <th>7</th>\n",
       "      <th>6</th>\n",
       "      <th>六</th>\n",
       "      <td>1000</td>\n",
       "    </tr>\n",
       "    <tr>\n",
       "      <th>8</th>\n",
       "      <th>7</th>\n",
       "      <th>七</th>\n",
       "      <td>1000</td>\n",
       "    </tr>\n",
       "    <tr>\n",
       "      <th>9</th>\n",
       "      <th>8</th>\n",
       "      <th>八</th>\n",
       "      <td>1000</td>\n",
       "    </tr>\n",
       "    <tr>\n",
       "      <th>10</th>\n",
       "      <th>9</th>\n",
       "      <th>九</th>\n",
       "      <td>1000</td>\n",
       "    </tr>\n",
       "    <tr>\n",
       "      <th>11</th>\n",
       "      <th>10</th>\n",
       "      <th>十</th>\n",
       "      <td>1000</td>\n",
       "    </tr>\n",
       "    <tr>\n",
       "      <th>12</th>\n",
       "      <th>100</th>\n",
       "      <th>百</th>\n",
       "      <td>1000</td>\n",
       "    </tr>\n",
       "    <tr>\n",
       "      <th>13</th>\n",
       "      <th>1000</th>\n",
       "      <th>千</th>\n",
       "      <td>1000</td>\n",
       "    </tr>\n",
       "    <tr>\n",
       "      <th>14</th>\n",
       "      <th>10000</th>\n",
       "      <th>万</th>\n",
       "      <td>1000</td>\n",
       "    </tr>\n",
       "    <tr>\n",
       "      <th>15</th>\n",
       "      <th>100000000</th>\n",
       "      <th>亿</th>\n",
       "      <td>1000</td>\n",
       "    </tr>\n",
       "  </tbody>\n",
       "</table>\n",
       "</div>"
      ],
      "text/plain": [
       "                             0\n",
       "code value     character      \n",
       "1    0         零          1000\n",
       "2    1         一          1000\n",
       "3    2         二          1000\n",
       "4    3         三          1000\n",
       "5    4         四          1000\n",
       "6    5         五          1000\n",
       "7    6         六          1000\n",
       "8    7         七          1000\n",
       "9    8         八          1000\n",
       "10   9         九          1000\n",
       "11   10        十          1000\n",
       "12   100       百          1000\n",
       "13   1000      千          1000\n",
       "14   10000     万          1000\n",
       "15   100000000 亿          1000"
      ]
     },
     "execution_count": 143,
     "metadata": {},
     "output_type": "execute_result"
    }
   ],
   "source": [
    "pd.DataFrame(dataset_unique.value_counts())"
   ]
  },
  {
   "cell_type": "markdown",
   "metadata": {},
   "source": [
    "#### Confusion Matrix"
   ]
  },
  {
   "cell_type": "markdown",
   "metadata": {},
   "source": [
    "First of all let's see how the confusio matrix of our predictions made by our RandomForest model is"
   ]
  },
  {
   "cell_type": "code",
   "execution_count": 144,
   "metadata": {},
   "outputs": [
    {
     "data": {
      "image/png": "[encoded data removed]",
      "text/plain": [
       "<Figure size 800x550 with 1 Axes>"
      ]
     },
     "metadata": {},
     "output_type": "display_data"
    },
    {
     "data": {
      "text/plain": [
       "<AxesSubplot:title={'center':'RandomForestClassifier Confusion Matrix'}, xlabel='Predicted Class', ylabel='True Class'>"
      ]
     },
     "execution_count": 144,
     "metadata": {},
     "output_type": "execute_result"
    }
   ],
   "source": [
    "from yellowbrick.classifier import ConfusionMatrix\n",
    "\n",
    "cm = ConfusionMatrix(RFC)\n",
    "\n",
    "cm.score(X_test, y_test)\n",
    "\n",
    "cm.show()"
   ]
  },
  {
   "cell_type": "markdown",
   "metadata": {},
   "source": [
    "We clearly see that the performance is not the same for all classes. If we check how the characters of the better predicted classes are, we can conclude that less complex characters or overly complicated characters (the one corresponding to code 1) are easier to predict for our model, which makes sense since our madel can't grasp all the details of the image, but can generalize it.\n",
    "\n",
    "Next, we will perform a Precision-Recall curve and compute the Area Under the Curve, to see how each class performs with this metric (good classes will be closer to the top right, bad classes to the bottom left)"
   ]
  },
  {
   "cell_type": "code",
   "execution_count": 147,
   "metadata": {},
   "outputs": [
    {
     "data": {
      "image/png": "[encoded data removed]",
      "text/plain": [
       "<Figure size 800x550 with 1 Axes>"
      ]
     },
     "metadata": {},
     "output_type": "display_data"
    },
    {
     "data": {
      "text/plain": [
       "<AxesSubplot:title={'center':'Precision-Recall Curve for RandomForestClassifier'}, xlabel='Recall', ylabel='Precision'>"
      ]
     },
     "execution_count": 147,
     "metadata": {},
     "output_type": "execute_result"
    }
   ],
   "source": [
    "from yellowbrick.classifier import PrecisionRecallCurve\n",
    "\n",
    "viz = PrecisionRecallCurve(\n",
    "    RandomForestClassifier(**params),\n",
    "    iso_f1_curves=True,\n",
    "    per_class=True,\n",
    "    cmap=\"Set1\"\n",
    ")\n",
    "viz.fit(X_train, y_train)\n",
    "viz.score(X_test, y_test)\n",
    "viz.show()\n"
   ]
  },
  {
   "cell_type": "markdown",
   "metadata": {},
   "source": [
    "We can see the correlation between the confusion matrix and the Precision-Recall Curve, those characters with higher values in the diagonal have also a higher AUC, and vice-versa, and are closer to the top right. (Note that the index starts with 0 in the graph). The graph is a bit messys since there are many classes, but the main output from it is that the model does not perform well for most of the classes.\n",
    "\n",
    "Finally, let's compare all metrics using classification_report from sklearn (basically see the graph represented numerically)"
   ]
  },
  {
   "cell_type": "code",
   "execution_count": 145,
   "metadata": {},
   "outputs": [
    {
     "name": "stdout",
     "output_type": "stream",
     "text": [
      "              precision    recall  f1-score   support\n",
      "\n",
      "           1       0.53      0.87      0.66       300\n",
      "           2       0.80      0.97      0.87       300\n",
      "           3       0.65      0.73      0.69       300\n",
      "           4       0.67      0.64      0.65       300\n",
      "           5       0.75      0.68      0.71       300\n",
      "           6       0.59      0.57      0.58       300\n",
      "           7       0.60      0.57      0.58       300\n",
      "           8       0.53      0.55      0.54       300\n",
      "           9       0.70      0.76      0.73       300\n",
      "          10       0.63      0.37      0.47       300\n",
      "          11       0.63      0.69      0.66       300\n",
      "          12       0.58      0.49      0.53       300\n",
      "          13       0.66      0.63      0.64       300\n",
      "          14       0.62      0.47      0.54       300\n",
      "          15       0.61      0.54      0.57       300\n",
      "\n",
      "    accuracy                           0.64      4500\n",
      "   macro avg       0.64      0.64      0.63      4500\n",
      "weighted avg       0.64      0.64      0.63      4500\n",
      "\n"
     ]
    }
   ],
   "source": [
    "pred = RFC.predict(X_test)\n",
    "print(metrics.classification_report(y_test,pred))"
   ]
  },
  {
   "cell_type": "markdown",
   "metadata": {},
   "source": [
    "From this table, jointly with the confussion matrix and the plot, we can see that the accuracy is unbalanced between classes, mainly if we focus on recall, there are few classes that perfrom really poorly there. From this we can extract that the model is not complex enough to extract the information to classify those classes, and end up classified wrongly.\n",
    "\n",
    "Traditional Machine Learning models are not sufficient for such complex datasets (each sample contains 4096 data points, each pixel on the iamge) and, for example for a Random Forest, to perform well it would cost a lot computationally (lots of estimators/trees, not setting maximum depth and setting minimum sample for split 1, to have a leaf for each pixel). That's why we are going to use a CNN model to fit our data, a Deep Learning model built with the purpose to classify images. We are using PyTorch to build the model (we could also use TensorFlow , Keras, ...)"
   ]
  },
  {
   "cell_type": "markdown",
   "metadata": {},
   "source": [
    "## Deep Learning Models (PyTorch)"
   ]
  },
  {
   "cell_type": "markdown",
   "metadata": {},
   "source": [
    "As mentioned before, Convolutional Neural Networks are fitted for image recognition and classification, and that is because Artificial Neural Networks (the most basic Deep Learning model) can explain more complex models thanks to its architecture."
   ]
  },
  {
   "cell_type": "markdown",
   "metadata": {},
   "source": [
    "#### Packages for modelling"
   ]
  },
  {
   "cell_type": "code",
   "execution_count": 26,
   "metadata": {},
   "outputs": [],
   "source": [
    "from tqdm.notebook import tqdm\n",
    "import torch\n",
    "import torch.nn as nn\n",
    "import torch.nn.functional as F\n",
    "from torch.utils.data import random_split\n",
    "from torch.utils.data.dataloader import DataLoader, Dataset\n",
    "from torchvision import transforms, utils"
   ]
  },
  {
   "cell_type": "markdown",
   "metadata": {},
   "source": [
    "#### Setting Parameters"
   ]
  },
  {
   "cell_type": "markdown",
   "metadata": {},
   "source": [
    "We set the parameters for our training and testing. We also set our device (if we had cuda it would we much more quicker)."
   ]
  },
  {
   "cell_type": "code",
   "execution_count": 27,
   "metadata": {},
   "outputs": [],
   "source": [
    "epochs = 30\n",
    "batch_size = 100        # number of samples during training\n",
    "test_batch_size = 1500  # number of samples for test \n",
    "seed = 0\n",
    "\n",
    "device = torch.device(\"cuda\" if torch.cuda.is_available() else \"cpu\")\n",
    "train_kwargs = {'batch_size': batch_size}\n",
    "test_kwargs = {'batch_size': test_batch_size}\n",
    "\n",
    "\n"
   ]
  },
  {
   "cell_type": "markdown",
   "metadata": {},
   "source": [
    "#### Setting up the Dataset"
   ]
  },
  {
   "cell_type": "markdown",
   "metadata": {},
   "source": [
    "We will use the same exact splits used before, to keep consistency and be able to make comparisons. We need to compute the mean and the standard deviation to normalize and also transform to tensor our images (currently arrays). We also have to define the dataset using Dataset module of PyTorch, that facilitates transforming the data."
   ]
  },
  {
   "cell_type": "code",
   "execution_count": 28,
   "metadata": {},
   "outputs": [],
   "source": [
    "\n",
    "# We make sure the data is stratified\n",
    "X_train_idx, X_test_idx, y_train, y_test = train_test_split(list(range(0,15000)), target, test_size=0.3, random_state=0,stratify=target)\n",
    "target_train = target[X_train_idx]\n",
    "target_test = target[X_test_idx]\n",
    "images_train = images[np.array(X_train_idx)]\n",
    "images_test = images[np.array(X_test_idx)]\n",
    "\n"
   ]
  },
  {
   "cell_type": "code",
   "execution_count": 29,
   "metadata": {},
   "outputs": [],
   "source": [
    "#We only compute them from the train set, and we will apply the same transformation \n",
    "#to the test images since technically we do not nothing from the test set. \n",
    "train_mean = np.mean(images_train)/255. #Mean of all images\n",
    "train_std = np.std(images_train)/255. #Standard deviation of all images\n",
    "\n",
    "transform = transforms.Compose([\n",
    "    transforms.ToTensor(),\n",
    "    transforms.Normalize((train_mean,), (train_std,))\n",
    "])\n"
   ]
  },
  {
   "cell_type": "code",
   "execution_count": 30,
   "metadata": {},
   "outputs": [],
   "source": [
    "class CustomImageDataset(Dataset):\n",
    "    def __init__(self, x,y, transform=None):\n",
    "        self.x = x\n",
    "        self.img_labels = y\n",
    "        self.transform = transform\n",
    "\n",
    "    def __len__(self):\n",
    "        return len(self.img_labels)\n",
    "\n",
    "    def __getitem__(self, idx):\n",
    "        image = self.x[idx]\n",
    "        label = self.img_labels.iloc[idx]\n",
    "        if (self.transform!=None):\n",
    "            image = self.transform(image)\n",
    "        return image, label-1"
   ]
  },
  {
   "cell_type": "markdown",
   "metadata": {},
   "source": [
    "DataLoader makes the dataser iterable, necessary to train the neural network "
   ]
  },
  {
   "cell_type": "code",
   "execution_count": 31,
   "metadata": {},
   "outputs": [],
   "source": [
    "train_ds = CustomImageDataset(images_train, target_train, transform)\n",
    "train_dataloader = torch.utils.data.DataLoader(train_ds, **train_kwargs)\n",
    "\n",
    "test_ds = CustomImageDataset(images_test, target_test, transform)\n",
    "test_dataloader = torch.utils.data.DataLoader(test_ds, **test_kwargs)\n"
   ]
  },
  {
   "cell_type": "markdown",
   "metadata": {},
   "source": [
    "### CNN Model"
   ]
  },
  {
   "cell_type": "markdown",
   "metadata": {},
   "source": [
    "The model proposed is a CNN model with seven hidden layers, 3 of them convulational layers where we perform Batch Normalization and a Max Pooling, and 3 fully-connected layers. We use LogSoftMax as the activaction function for the output since we are performing multiclass prediction. We also added a Dropout to regularize and avoid overfitting."
   ]
  },
  {
   "cell_type": "code",
   "execution_count": null,
   "metadata": {},
   "outputs": [],
   "source": [
    "class CNN(nn.Module):\n",
    "    def __init__(self):\n",
    "        super(CNN, self).__init__()\n",
    "\n",
    "        self.layer1 = nn.Sequential(\n",
    "            nn.Conv2d(in_channels=1, out_channels=16, kernel_size=5, padding=2),\n",
    "            nn.BatchNorm2d(16),\n",
    "            nn.ReLU(),\n",
    "            nn.MaxPool2d(kernel_size=2, stride=2)\n",
    "        )\n",
    "\n",
    "        self.layer2 = nn.Sequential(\n",
    "            nn.Conv2d(in_channels=16, out_channels=32, kernel_size=5, padding=2),\n",
    "            nn.BatchNorm2d(32),\n",
    "            nn.ReLU(),\n",
    "            nn.MaxPool2d(kernel_size=2, stride=2)\n",
    "        )\n",
    "        \n",
    "        self.layer3 = nn.Sequential(\n",
    "            nn.Conv2d(in_channels=32, out_channels=64, kernel_size=3),\n",
    "            nn.BatchNorm2d(64),\n",
    "            nn.ReLU(),\n",
    "            nn.MaxPool2d(kernel_size=2, stride=2)\n",
    "        )\n",
    "        self.fc1 = nn.Linear(in_features=64 * 7 * 7, out_features=1200)\n",
    "        self.drop = nn.Dropout(0.5)\n",
    "        self.fc2 = nn.Linear(in_features=1200, out_features=150)\n",
    "        self.fc3 = nn.Linear(in_features=150, out_features=15)\n",
    "\n",
    "\n",
    "\n",
    "    def forward(self, x):\n",
    "        x = x.unsqueeze(1) #We want only 1 channel as input\n",
    "        out = self.layer1(x)\n",
    "        out = self.layer2(out)\n",
    "        out = self.layer3(out)\n",
    "        out = out.view(out.size(0), -1)\n",
    "        out = self.fc1(out)\n",
    "        out = self.drop(out)\n",
    "        out = F.relu(out)\n",
    "        out = self.fc2(out)\n",
    "        out = F.relu(out)\n",
    "        out = self.fc3(out)\n",
    "        output = F.log_softmax(out, dim=1)\n",
    "\n",
    "        return output\n"
   ]
  },
  {
   "cell_type": "markdown",
   "metadata": {},
   "source": [
    "#### Train and Test Functions"
   ]
  },
  {
   "cell_type": "code",
   "execution_count": 33,
   "metadata": {},
   "outputs": [],
   "source": [
    "def train(model, device, train_loader, optimizer, criterion):\n",
    "    losses = []\n",
    "    model.train()\n",
    "    t = tqdm(enumerate(train_loader), total=len(train_loader))\n",
    "    t.set_description('Train')\n",
    "    for batch_idx, (data, target) in t:\n",
    "        data, target = data.to(device), target.to(device)\n",
    "        optimizer.zero_grad() #backpropagation\n",
    "        data = data.resize_(data.size()[0], 64,64).float()\n",
    "        output = model(data)\n",
    "        loss = criterion(output, target)\n",
    "        loss.backward()\n",
    "        optimizer.step()\n",
    "        losses.append(loss.item())\n",
    "        t.set_postfix(loss=loss.item())\n",
    "\n",
    "    return np.mean(losses)"
   ]
  },
  {
   "cell_type": "code",
   "execution_count": 34,
   "metadata": {},
   "outputs": [],
   "source": [
    "def test(model, device, test_loader, criterion):\n",
    "    model.eval()\n",
    "    test_loss = 0\n",
    "    correct = 0\n",
    "    totals = 0\n",
    "    all_preds = []\n",
    "    all_targets = []\n",
    "    \n",
    "    with torch.no_grad():\n",
    "        t = tqdm(test_loader, total=len(test_loader))\n",
    "        t.set_description('Test ')\n",
    "        for data, target in t:\n",
    "            data, target = data.to(device), target.to(device)\n",
    "            data = data.resize_(data.size()[0], 64,64).float()\n",
    "            output = model(data)\n",
    "            test_loss += criterion(output, target).item() * data.shape[0]  # sum up batch loss\n",
    "            pred = output.argmax(dim=1, keepdim=True)  # get the index of the max log-probability\n",
    "            correct += pred.eq(target.view_as(pred)).sum().item()\n",
    "            totals += len(target)\n",
    "            t.set_postfix(loss=test_loss/totals, accuracy=100.*correct/totals)\n",
    "            all_preds.extend(np.asarray(pred))\n",
    "            all_targets.extend(np.asarray(target))\n",
    "\n",
    "    test_loss /= len(test_loader.dataset)\n",
    "    accuracy = 100. * correct / len(test_loader.dataset)\n",
    "    \n",
    "    print('\\nTest set: Average loss: {:.4f}, Accuracy: {}/{} ({:.2f}%)\\n'.format(\n",
    "        test_loss, correct, len(test_loader.dataset), accuracy))\n",
    "    return test_loss, accuracy, all_preds, all_targets"
   ]
  },
  {
   "cell_type": "markdown",
   "metadata": {},
   "source": [
    "#### Auxiliary Functions"
   ]
  },
  {
   "cell_type": "markdown",
   "metadata": {},
   "source": [
    "Function that performs all the training and testing epochs, displaying on screen the batch that is working on and the resulting loss. For each epoch of the test it shows the accuracy.\n",
    "\n",
    "When finished all the iterations, it displays a plot with the training loss and the test loss."
   ]
  },
  {
   "cell_type": "code",
   "execution_count": 35,
   "metadata": {},
   "outputs": [],
   "source": [
    "def experiment(model, device, loss, optimizer,scheduler, train_loader, test_loader):\n",
    "    init_time = time.time()\n",
    "    losses_train = []\n",
    "    losses_test = []\n",
    "    accuracies_test = []    \n",
    "    model.to(device)\n",
    "    \n",
    "    for epoch in range(1, epochs + 1):\n",
    "        print (\"EPOCH {}\".format(epoch))\n",
    "        sys.stdout.flush()\n",
    "        loss_train_epoch = train(model, device, train_loader, optimizer, loss)\n",
    "        loss_test_epoch, accuracy_epoch, pred, targets = test(model, device, test_loader, loss)\n",
    "\n",
    "        losses_train.append(loss_train_epoch)\n",
    "        losses_test.append(loss_test_epoch)\n",
    "        accuracies_test.append(accuracy_epoch)\n",
    "        scheduler.step(np.mean(loss_train_epoch))\n",
    "\n",
    "    plt.plot(range(len(losses_train)), \n",
    "             losses_train, label=\"Training Loss\")\n",
    "\n",
    "    plt.plot(range(len(losses_test)), \n",
    "             losses_test, label=\"Test Loss\")\n",
    "    plt.legend()\n",
    "    plt.show()\n",
    "    \n",
    "    elapsed = time.time()-init_time\n",
    "\n",
    "\n",
    "    print (\"ELAPSED TIME: {:.1f}s\".format(elapsed))\n",
    "    \n",
    "    return losses_train, losses_test, accuracies_test, elapsed, pred"
   ]
  },
  {
   "cell_type": "markdown",
   "metadata": {},
   "source": [
    "A complementary function that shows us the number of parameters and the FLOPs of the model"
   ]
  },
  {
   "cell_type": "code",
   "execution_count": 36,
   "metadata": {},
   "outputs": [],
   "source": [
    "def calculate_parameters_and_flops(current_model):\n",
    "    from thop import profile\n",
    "    test_input = torch.randn( 1, 64, 64)\n",
    "    macs, params = profile(current_model, inputs=(test_input,))  # multiply accumulate operation (GFLOPS = 2 * GMACS)\n",
    "    # normalment, en gpus i exemples reals, es parlaria minim de Gigaflops.\n",
    "    # print(\"%s | %.2f Params(M) | %.3f FLOPs(G)\" % (current_model._get_name(), params / (1000 ** 2), macs / (1000 ** 3)))\n",
    "    print(\"%s | %.2f Params(M) | %.3f FLOPs(M)\" % (current_model._get_name(), params / (1000 ** 2), macs / (1000 ** 2)))\n",
    "    return macs, params"
   ]
  },
  {
   "cell_type": "markdown",
   "metadata": {},
   "source": [
    "### Model instantation"
   ]
  },
  {
   "cell_type": "code",
   "execution_count": 37,
   "metadata": {},
   "outputs": [
    {
     "name": "stdout",
     "output_type": "stream",
     "text": [
      "EPOCH 1\n"
     ]
    },
    {
     "data": {
      "application/vnd.jupyter.widget-view+json": {
       "model_id": "9bde27d6986648cea54c2f71330b2991",
       "version_major": 2,
       "version_minor": 0
      },
      "text/plain": [
       "  0%|          | 0/105 [00:00<?, ?it/s]"
      ]
     },
     "metadata": {},
     "output_type": "display_data"
    },
    {
     "data": {
      "application/vnd.jupyter.widget-view+json": {
       "model_id": "ec0afc1413304400b717f31e67540fd2",
       "version_major": 2,
       "version_minor": 0
      },
      "text/plain": [
       "  0%|          | 0/3 [00:00<?, ?it/s]"
      ]
     },
     "metadata": {},
     "output_type": "display_data"
    },
    {
     "name": "stdout",
     "output_type": "stream",
     "text": [
      "\n",
      "Test set: Average loss: 0.2982, Accuracy: 4025/4500 (89.44%)\n",
      "\n",
      "EPOCH 2\n"
     ]
    },
    {
     "data": {
      "application/vnd.jupyter.widget-view+json": {
       "model_id": "9845260a27c84c3d986e5b699177f681",
       "version_major": 2,
       "version_minor": 0
      },
      "text/plain": [
       "  0%|          | 0/105 [00:00<?, ?it/s]"
      ]
     },
     "metadata": {},
     "output_type": "display_data"
    },
    {
     "data": {
      "application/vnd.jupyter.widget-view+json": {
       "model_id": "24ca4ca5b0224fa1abe86b95ff29692e",
       "version_major": 2,
       "version_minor": 0
      },
      "text/plain": [
       "  0%|          | 0/3 [00:00<?, ?it/s]"
      ]
     },
     "metadata": {},
     "output_type": "display_data"
    },
    {
     "name": "stdout",
     "output_type": "stream",
     "text": [
      "\n",
      "Test set: Average loss: 0.1717, Accuracy: 4236/4500 (94.13%)\n",
      "\n",
      "EPOCH 3\n"
     ]
    },
    {
     "data": {
      "application/vnd.jupyter.widget-view+json": {
       "model_id": "3d69c83703f54865b1d5fff45f2a17f7",
       "version_major": 2,
       "version_minor": 0
      },
      "text/plain": [
       "  0%|          | 0/105 [00:00<?, ?it/s]"
      ]
     },
     "metadata": {},
     "output_type": "display_data"
    },
    {
     "data": {
      "application/vnd.jupyter.widget-view+json": {
       "model_id": "353d6ad07193409fa2f473295f8b1e8d",
       "version_major": 2,
       "version_minor": 0
      },
      "text/plain": [
       "  0%|          | 0/3 [00:00<?, ?it/s]"
      ]
     },
     "metadata": {},
     "output_type": "display_data"
    },
    {
     "name": "stdout",
     "output_type": "stream",
     "text": [
      "\n",
      "Test set: Average loss: 0.2365, Accuracy: 4147/4500 (92.16%)\n",
      "\n",
      "EPOCH 4\n"
     ]
    },
    {
     "data": {
      "application/vnd.jupyter.widget-view+json": {
       "model_id": "f1784c3e61c141d8bead5c3c86d763b3",
       "version_major": 2,
       "version_minor": 0
      },
      "text/plain": [
       "  0%|          | 0/105 [00:00<?, ?it/s]"
      ]
     },
     "metadata": {},
     "output_type": "display_data"
    },
    {
     "data": {
      "application/vnd.jupyter.widget-view+json": {
       "model_id": "62a88262b56342359b34655d09024c64",
       "version_major": 2,
       "version_minor": 0
      },
      "text/plain": [
       "  0%|          | 0/3 [00:00<?, ?it/s]"
      ]
     },
     "metadata": {},
     "output_type": "display_data"
    },
    {
     "name": "stdout",
     "output_type": "stream",
     "text": [
      "\n",
      "Test set: Average loss: 0.1931, Accuracy: 4236/4500 (94.13%)\n",
      "\n",
      "EPOCH 5\n"
     ]
    },
    {
     "data": {
      "application/vnd.jupyter.widget-view+json": {
       "model_id": "0d8692245b4e4c30afd732c99532f429",
       "version_major": 2,
       "version_minor": 0
      },
      "text/plain": [
       "  0%|          | 0/105 [00:00<?, ?it/s]"
      ]
     },
     "metadata": {},
     "output_type": "display_data"
    },
    {
     "data": {
      "application/vnd.jupyter.widget-view+json": {
       "model_id": "44dccc7f10fa48f399c7478d0f9ad9aa",
       "version_major": 2,
       "version_minor": 0
      },
      "text/plain": [
       "  0%|          | 0/3 [00:00<?, ?it/s]"
      ]
     },
     "metadata": {},
     "output_type": "display_data"
    },
    {
     "name": "stdout",
     "output_type": "stream",
     "text": [
      "\n",
      "Test set: Average loss: 0.0734, Accuracy: 4390/4500 (97.56%)\n",
      "\n",
      "EPOCH 6\n"
     ]
    },
    {
     "data": {
      "application/vnd.jupyter.widget-view+json": {
       "model_id": "e74c5270ea1a450a9390074208edd647",
       "version_major": 2,
       "version_minor": 0
      },
      "text/plain": [
       "  0%|          | 0/105 [00:00<?, ?it/s]"
      ]
     },
     "metadata": {},
     "output_type": "display_data"
    },
    {
     "data": {
      "application/vnd.jupyter.widget-view+json": {
       "model_id": "90277560d5eb4367ae9b19779111659c",
       "version_major": 2,
       "version_minor": 0
      },
      "text/plain": [
       "  0%|          | 0/3 [00:00<?, ?it/s]"
      ]
     },
     "metadata": {},
     "output_type": "display_data"
    },
    {
     "name": "stdout",
     "output_type": "stream",
     "text": [
      "\n",
      "Test set: Average loss: 0.0726, Accuracy: 4400/4500 (97.78%)\n",
      "\n",
      "EPOCH 7\n"
     ]
    },
    {
     "data": {
      "application/vnd.jupyter.widget-view+json": {
       "model_id": "c3dd5f0ff47e4edeb809f1fbee75b74e",
       "version_major": 2,
       "version_minor": 0
      },
      "text/plain": [
       "  0%|          | 0/105 [00:00<?, ?it/s]"
      ]
     },
     "metadata": {},
     "output_type": "display_data"
    },
    {
     "data": {
      "application/vnd.jupyter.widget-view+json": {
       "model_id": "ba9b55c89f624c83b5b50411846a01c5",
       "version_major": 2,
       "version_minor": 0
      },
      "text/plain": [
       "  0%|          | 0/3 [00:00<?, ?it/s]"
      ]
     },
     "metadata": {},
     "output_type": "display_data"
    },
    {
     "name": "stdout",
     "output_type": "stream",
     "text": [
      "\n",
      "Test set: Average loss: 0.1173, Accuracy: 4352/4500 (96.71%)\n",
      "\n",
      "EPOCH 8\n"
     ]
    },
    {
     "data": {
      "application/vnd.jupyter.widget-view+json": {
       "model_id": "fae0f9d172e84a1dbe0457a11b68118a",
       "version_major": 2,
       "version_minor": 0
      },
      "text/plain": [
       "  0%|          | 0/105 [00:00<?, ?it/s]"
      ]
     },
     "metadata": {},
     "output_type": "display_data"
    },
    {
     "data": {
      "application/vnd.jupyter.widget-view+json": {
       "model_id": "917624786076447296b0f1e3570ca12b",
       "version_major": 2,
       "version_minor": 0
      },
      "text/plain": [
       "  0%|          | 0/3 [00:00<?, ?it/s]"
      ]
     },
     "metadata": {},
     "output_type": "display_data"
    },
    {
     "name": "stdout",
     "output_type": "stream",
     "text": [
      "\n",
      "Test set: Average loss: 0.1591, Accuracy: 4264/4500 (94.76%)\n",
      "\n",
      "EPOCH 9\n"
     ]
    },
    {
     "data": {
      "application/vnd.jupyter.widget-view+json": {
       "model_id": "3186359bfe43431e864426a1438f9116",
       "version_major": 2,
       "version_minor": 0
      },
      "text/plain": [
       "  0%|          | 0/105 [00:00<?, ?it/s]"
      ]
     },
     "metadata": {},
     "output_type": "display_data"
    },
    {
     "data": {
      "application/vnd.jupyter.widget-view+json": {
       "model_id": "1da453b696bb46c5a4018cf51236798f",
       "version_major": 2,
       "version_minor": 0
      },
      "text/plain": [
       "  0%|          | 0/3 [00:00<?, ?it/s]"
      ]
     },
     "metadata": {},
     "output_type": "display_data"
    },
    {
     "name": "stdout",
     "output_type": "stream",
     "text": [
      "\n",
      "Test set: Average loss: 0.1319, Accuracy: 4333/4500 (96.29%)\n",
      "\n",
      "EPOCH 10\n"
     ]
    },
    {
     "data": {
      "application/vnd.jupyter.widget-view+json": {
       "model_id": "97cc9072beaa4c8f8f64524d86e11020",
       "version_major": 2,
       "version_minor": 0
      },
      "text/plain": [
       "  0%|          | 0/105 [00:00<?, ?it/s]"
      ]
     },
     "metadata": {},
     "output_type": "display_data"
    },
    {
     "data": {
      "application/vnd.jupyter.widget-view+json": {
       "model_id": "89364d7343f346ddafcfeb103baf291f",
       "version_major": 2,
       "version_minor": 0
      },
      "text/plain": [
       "  0%|          | 0/3 [00:00<?, ?it/s]"
      ]
     },
     "metadata": {},
     "output_type": "display_data"
    },
    {
     "name": "stdout",
     "output_type": "stream",
     "text": [
      "\n",
      "Test set: Average loss: 0.1745, Accuracy: 4295/4500 (95.44%)\n",
      "\n",
      "EPOCH 11\n"
     ]
    },
    {
     "data": {
      "application/vnd.jupyter.widget-view+json": {
       "model_id": "c749f0a8a59049ec960121a4ffe49e1b",
       "version_major": 2,
       "version_minor": 0
      },
      "text/plain": [
       "  0%|          | 0/105 [00:00<?, ?it/s]"
      ]
     },
     "metadata": {},
     "output_type": "display_data"
    },
    {
     "data": {
      "application/vnd.jupyter.widget-view+json": {
       "model_id": "85393fa690894870907ccbb4c04da06d",
       "version_major": 2,
       "version_minor": 0
      },
      "text/plain": [
       "  0%|          | 0/3 [00:00<?, ?it/s]"
      ]
     },
     "metadata": {},
     "output_type": "display_data"
    },
    {
     "name": "stdout",
     "output_type": "stream",
     "text": [
      "\n",
      "Test set: Average loss: 0.0587, Accuracy: 4408/4500 (97.96%)\n",
      "\n",
      "EPOCH 12\n"
     ]
    },
    {
     "data": {
      "application/vnd.jupyter.widget-view+json": {
       "model_id": "dd579a6d125844f996d12a6e15b33c44",
       "version_major": 2,
       "version_minor": 0
      },
      "text/plain": [
       "  0%|          | 0/105 [00:00<?, ?it/s]"
      ]
     },
     "metadata": {},
     "output_type": "display_data"
    },
    {
     "data": {
      "application/vnd.jupyter.widget-view+json": {
       "model_id": "39d7981f852542f8b2fe69f5045a0887",
       "version_major": 2,
       "version_minor": 0
      },
      "text/plain": [
       "  0%|          | 0/3 [00:00<?, ?it/s]"
      ]
     },
     "metadata": {},
     "output_type": "display_data"
    },
    {
     "name": "stdout",
     "output_type": "stream",
     "text": [
      "\n",
      "Test set: Average loss: 0.0601, Accuracy: 4417/4500 (98.16%)\n",
      "\n",
      "EPOCH 13\n"
     ]
    },
    {
     "data": {
      "application/vnd.jupyter.widget-view+json": {
       "model_id": "f14224aef95d485eae543ad57cbc2fe2",
       "version_major": 2,
       "version_minor": 0
      },
      "text/plain": [
       "  0%|          | 0/105 [00:00<?, ?it/s]"
      ]
     },
     "metadata": {},
     "output_type": "display_data"
    },
    {
     "data": {
      "application/vnd.jupyter.widget-view+json": {
       "model_id": "e0e84f056e7f408cbbc77a278c68b649",
       "version_major": 2,
       "version_minor": 0
      },
      "text/plain": [
       "  0%|          | 0/3 [00:00<?, ?it/s]"
      ]
     },
     "metadata": {},
     "output_type": "display_data"
    },
    {
     "name": "stdout",
     "output_type": "stream",
     "text": [
      "\n",
      "Test set: Average loss: 0.0906, Accuracy: 4369/4500 (97.09%)\n",
      "\n",
      "EPOCH 14\n"
     ]
    },
    {
     "data": {
      "application/vnd.jupyter.widget-view+json": {
       "model_id": "c4b970d414ea4c2ea6253f55afdd8385",
       "version_major": 2,
       "version_minor": 0
      },
      "text/plain": [
       "  0%|          | 0/105 [00:00<?, ?it/s]"
      ]
     },
     "metadata": {},
     "output_type": "display_data"
    },
    {
     "data": {
      "application/vnd.jupyter.widget-view+json": {
       "model_id": "8139618bcdd74602ad46336c64c6c63d",
       "version_major": 2,
       "version_minor": 0
      },
      "text/plain": [
       "  0%|          | 0/3 [00:00<?, ?it/s]"
      ]
     },
     "metadata": {},
     "output_type": "display_data"
    },
    {
     "name": "stdout",
     "output_type": "stream",
     "text": [
      "\n",
      "Test set: Average loss: 0.0835, Accuracy: 4387/4500 (97.49%)\n",
      "\n",
      "EPOCH 15\n"
     ]
    },
    {
     "data": {
      "application/vnd.jupyter.widget-view+json": {
       "model_id": "f1ced5bf6fe14b1785fa9899c28d4e7b",
       "version_major": 2,
       "version_minor": 0
      },
      "text/plain": [
       "  0%|          | 0/105 [00:00<?, ?it/s]"
      ]
     },
     "metadata": {},
     "output_type": "display_data"
    },
    {
     "data": {
      "application/vnd.jupyter.widget-view+json": {
       "model_id": "4895c873826147528a3288d4b0f33c4b",
       "version_major": 2,
       "version_minor": 0
      },
      "text/plain": [
       "  0%|          | 0/3 [00:00<?, ?it/s]"
      ]
     },
     "metadata": {},
     "output_type": "display_data"
    },
    {
     "name": "stdout",
     "output_type": "stream",
     "text": [
      "\n",
      "Test set: Average loss: 0.0447, Accuracy: 4443/4500 (98.73%)\n",
      "\n",
      "EPOCH 16\n"
     ]
    },
    {
     "data": {
      "application/vnd.jupyter.widget-view+json": {
       "model_id": "d4227e11456e447089c60996c9d1a010",
       "version_major": 2,
       "version_minor": 0
      },
      "text/plain": [
       "  0%|          | 0/105 [00:00<?, ?it/s]"
      ]
     },
     "metadata": {},
     "output_type": "display_data"
    },
    {
     "data": {
      "application/vnd.jupyter.widget-view+json": {
       "model_id": "50ea42ab1f8c4c498b0e6a4ce102d22b",
       "version_major": 2,
       "version_minor": 0
      },
      "text/plain": [
       "  0%|          | 0/3 [00:00<?, ?it/s]"
      ]
     },
     "metadata": {},
     "output_type": "display_data"
    },
    {
     "name": "stdout",
     "output_type": "stream",
     "text": [
      "\n",
      "Test set: Average loss: 0.0787, Accuracy: 4398/4500 (97.73%)\n",
      "\n",
      "EPOCH 17\n"
     ]
    },
    {
     "data": {
      "application/vnd.jupyter.widget-view+json": {
       "model_id": "5ed844900de142af894ee3a02ff0de4a",
       "version_major": 2,
       "version_minor": 0
      },
      "text/plain": [
       "  0%|          | 0/105 [00:00<?, ?it/s]"
      ]
     },
     "metadata": {},
     "output_type": "display_data"
    },
    {
     "data": {
      "application/vnd.jupyter.widget-view+json": {
       "model_id": "8438247fd9d44c299e05970db69325f7",
       "version_major": 2,
       "version_minor": 0
      },
      "text/plain": [
       "  0%|          | 0/3 [00:00<?, ?it/s]"
      ]
     },
     "metadata": {},
     "output_type": "display_data"
    },
    {
     "name": "stdout",
     "output_type": "stream",
     "text": [
      "\n",
      "Test set: Average loss: 0.0442, Accuracy: 4442/4500 (98.71%)\n",
      "\n",
      "EPOCH 18\n"
     ]
    },
    {
     "data": {
      "application/vnd.jupyter.widget-view+json": {
       "model_id": "f65f1c7c1d38487a829171fcfc958182",
       "version_major": 2,
       "version_minor": 0
      },
      "text/plain": [
       "  0%|          | 0/105 [00:00<?, ?it/s]"
      ]
     },
     "metadata": {},
     "output_type": "display_data"
    },
    {
     "data": {
      "application/vnd.jupyter.widget-view+json": {
       "model_id": "c63890678e7c4161bddc44fed16f248d",
       "version_major": 2,
       "version_minor": 0
      },
      "text/plain": [
       "  0%|          | 0/3 [00:00<?, ?it/s]"
      ]
     },
     "metadata": {},
     "output_type": "display_data"
    },
    {
     "name": "stdout",
     "output_type": "stream",
     "text": [
      "\n",
      "Test set: Average loss: 0.2073, Accuracy: 4214/4500 (93.64%)\n",
      "\n",
      "EPOCH 19\n"
     ]
    },
    {
     "data": {
      "application/vnd.jupyter.widget-view+json": {
       "model_id": "2795a357bd784dc58f7a89ea78bc075b",
       "version_major": 2,
       "version_minor": 0
      },
      "text/plain": [
       "  0%|          | 0/105 [00:00<?, ?it/s]"
      ]
     },
     "metadata": {},
     "output_type": "display_data"
    },
    {
     "data": {
      "application/vnd.jupyter.widget-view+json": {
       "model_id": "ef5299a7ecfe4ad7a49f50eb38d21c2a",
       "version_major": 2,
       "version_minor": 0
      },
      "text/plain": [
       "  0%|          | 0/3 [00:00<?, ?it/s]"
      ]
     },
     "metadata": {},
     "output_type": "display_data"
    },
    {
     "name": "stdout",
     "output_type": "stream",
     "text": [
      "\n",
      "Test set: Average loss: 0.0982, Accuracy: 4389/4500 (97.53%)\n",
      "\n",
      "EPOCH 20\n"
     ]
    },
    {
     "data": {
      "application/vnd.jupyter.widget-view+json": {
       "model_id": "cde9e203f06845ea8012ab969c94c5d7",
       "version_major": 2,
       "version_minor": 0
      },
      "text/plain": [
       "  0%|          | 0/105 [00:00<?, ?it/s]"
      ]
     },
     "metadata": {},
     "output_type": "display_data"
    },
    {
     "data": {
      "application/vnd.jupyter.widget-view+json": {
       "model_id": "74402e23216642b2a86b835419e0b546",
       "version_major": 2,
       "version_minor": 0
      },
      "text/plain": [
       "  0%|          | 0/3 [00:00<?, ?it/s]"
      ]
     },
     "metadata": {},
     "output_type": "display_data"
    },
    {
     "name": "stdout",
     "output_type": "stream",
     "text": [
      "\n",
      "Test set: Average loss: 0.0524, Accuracy: 4435/4500 (98.56%)\n",
      "\n",
      "EPOCH 21\n"
     ]
    },
    {
     "data": {
      "application/vnd.jupyter.widget-view+json": {
       "model_id": "0f2de6680d8e4b018b0f3ae0e61f382b",
       "version_major": 2,
       "version_minor": 0
      },
      "text/plain": [
       "  0%|          | 0/105 [00:00<?, ?it/s]"
      ]
     },
     "metadata": {},
     "output_type": "display_data"
    },
    {
     "data": {
      "application/vnd.jupyter.widget-view+json": {
       "model_id": "b0bb841478e448ed9af25edde749909f",
       "version_major": 2,
       "version_minor": 0
      },
      "text/plain": [
       "  0%|          | 0/3 [00:00<?, ?it/s]"
      ]
     },
     "metadata": {},
     "output_type": "display_data"
    },
    {
     "name": "stdout",
     "output_type": "stream",
     "text": [
      "\n",
      "Test set: Average loss: 0.1852, Accuracy: 4260/4500 (94.67%)\n",
      "\n",
      "EPOCH 22\n"
     ]
    },
    {
     "data": {
      "application/vnd.jupyter.widget-view+json": {
       "model_id": "86c324d287a84b109eb0bee891a42ea7",
       "version_major": 2,
       "version_minor": 0
      },
      "text/plain": [
       "  0%|          | 0/105 [00:00<?, ?it/s]"
      ]
     },
     "metadata": {},
     "output_type": "display_data"
    },
    {
     "data": {
      "application/vnd.jupyter.widget-view+json": {
       "model_id": "1e6e754ac508459299c02d2e0e0f6933",
       "version_major": 2,
       "version_minor": 0
      },
      "text/plain": [
       "  0%|          | 0/3 [00:00<?, ?it/s]"
      ]
     },
     "metadata": {},
     "output_type": "display_data"
    },
    {
     "name": "stdout",
     "output_type": "stream",
     "text": [
      "\n",
      "Test set: Average loss: 0.0352, Accuracy: 4443/4500 (98.73%)\n",
      "\n",
      "EPOCH 23\n"
     ]
    },
    {
     "data": {
      "application/vnd.jupyter.widget-view+json": {
       "model_id": "07929a372ae744f78bf3284667e026b1",
       "version_major": 2,
       "version_minor": 0
      },
      "text/plain": [
       "  0%|          | 0/105 [00:00<?, ?it/s]"
      ]
     },
     "metadata": {},
     "output_type": "display_data"
    },
    {
     "data": {
      "application/vnd.jupyter.widget-view+json": {
       "model_id": "cbf43a999fbb40f7bd00f284e57e7a79",
       "version_major": 2,
       "version_minor": 0
      },
      "text/plain": [
       "  0%|          | 0/3 [00:00<?, ?it/s]"
      ]
     },
     "metadata": {},
     "output_type": "display_data"
    },
    {
     "name": "stdout",
     "output_type": "stream",
     "text": [
      "\n",
      "Test set: Average loss: 0.0613, Accuracy: 4428/4500 (98.40%)\n",
      "\n",
      "EPOCH 24\n"
     ]
    },
    {
     "data": {
      "application/vnd.jupyter.widget-view+json": {
       "model_id": "b1bf28d0dfe2492a8e13c80e3eee6d63",
       "version_major": 2,
       "version_minor": 0
      },
      "text/plain": [
       "  0%|          | 0/105 [00:00<?, ?it/s]"
      ]
     },
     "metadata": {},
     "output_type": "display_data"
    },
    {
     "data": {
      "application/vnd.jupyter.widget-view+json": {
       "model_id": "cb688f8b8c5245a88e692d2b537aa0b9",
       "version_major": 2,
       "version_minor": 0
      },
      "text/plain": [
       "  0%|          | 0/3 [00:00<?, ?it/s]"
      ]
     },
     "metadata": {},
     "output_type": "display_data"
    },
    {
     "name": "stdout",
     "output_type": "stream",
     "text": [
      "\n",
      "Test set: Average loss: 0.1836, Accuracy: 4319/4500 (95.98%)\n",
      "\n",
      "EPOCH 25\n"
     ]
    },
    {
     "data": {
      "application/vnd.jupyter.widget-view+json": {
       "model_id": "77c8e93c103c45f789e39593ecfb2af1",
       "version_major": 2,
       "version_minor": 0
      },
      "text/plain": [
       "  0%|          | 0/105 [00:00<?, ?it/s]"
      ]
     },
     "metadata": {},
     "output_type": "display_data"
    },
    {
     "data": {
      "application/vnd.jupyter.widget-view+json": {
       "model_id": "4050cfbcf7cb484a912fd6f15f10e22d",
       "version_major": 2,
       "version_minor": 0
      },
      "text/plain": [
       "  0%|          | 0/3 [00:00<?, ?it/s]"
      ]
     },
     "metadata": {},
     "output_type": "display_data"
    },
    {
     "name": "stdout",
     "output_type": "stream",
     "text": [
      "\n",
      "Test set: Average loss: 0.0726, Accuracy: 4403/4500 (97.84%)\n",
      "\n",
      "EPOCH 26\n"
     ]
    },
    {
     "data": {
      "application/vnd.jupyter.widget-view+json": {
       "model_id": "44b16c65dadf478abb59bee7dd6dd025",
       "version_major": 2,
       "version_minor": 0
      },
      "text/plain": [
       "  0%|          | 0/105 [00:00<?, ?it/s]"
      ]
     },
     "metadata": {},
     "output_type": "display_data"
    },
    {
     "data": {
      "application/vnd.jupyter.widget-view+json": {
       "model_id": "bd66fccc6df94ce683ff2b20fb02a880",
       "version_major": 2,
       "version_minor": 0
      },
      "text/plain": [
       "  0%|          | 0/3 [00:00<?, ?it/s]"
      ]
     },
     "metadata": {},
     "output_type": "display_data"
    },
    {
     "name": "stdout",
     "output_type": "stream",
     "text": [
      "\n",
      "Test set: Average loss: 0.0405, Accuracy: 4451/4500 (98.91%)\n",
      "\n",
      "EPOCH 27\n"
     ]
    },
    {
     "data": {
      "application/vnd.jupyter.widget-view+json": {
       "model_id": "97af4fa9b0e54ea089416a0fae84e166",
       "version_major": 2,
       "version_minor": 0
      },
      "text/plain": [
       "  0%|          | 0/105 [00:00<?, ?it/s]"
      ]
     },
     "metadata": {},
     "output_type": "display_data"
    },
    {
     "data": {
      "application/vnd.jupyter.widget-view+json": {
       "model_id": "8ab555075c7943a7a54f876cd01bfbfb",
       "version_major": 2,
       "version_minor": 0
      },
      "text/plain": [
       "  0%|          | 0/3 [00:00<?, ?it/s]"
      ]
     },
     "metadata": {},
     "output_type": "display_data"
    },
    {
     "name": "stdout",
     "output_type": "stream",
     "text": [
      "\n",
      "Test set: Average loss: 0.0650, Accuracy: 4425/4500 (98.33%)\n",
      "\n",
      "EPOCH 28\n"
     ]
    },
    {
     "data": {
      "application/vnd.jupyter.widget-view+json": {
       "model_id": "6d6e85c98a074f12a593f0cda2c6b4a7",
       "version_major": 2,
       "version_minor": 0
      },
      "text/plain": [
       "  0%|          | 0/105 [00:00<?, ?it/s]"
      ]
     },
     "metadata": {},
     "output_type": "display_data"
    },
    {
     "data": {
      "application/vnd.jupyter.widget-view+json": {
       "model_id": "59576cfa29af4749b5849c0ffbb568d5",
       "version_major": 2,
       "version_minor": 0
      },
      "text/plain": [
       "  0%|          | 0/3 [00:00<?, ?it/s]"
      ]
     },
     "metadata": {},
     "output_type": "display_data"
    },
    {
     "name": "stdout",
     "output_type": "stream",
     "text": [
      "\n",
      "Test set: Average loss: 0.0549, Accuracy: 4435/4500 (98.56%)\n",
      "\n",
      "EPOCH 29\n"
     ]
    },
    {
     "data": {
      "application/vnd.jupyter.widget-view+json": {
       "model_id": "d83d8174fd91419e9098278303df12e8",
       "version_major": 2,
       "version_minor": 0
      },
      "text/plain": [
       "  0%|          | 0/105 [00:00<?, ?it/s]"
      ]
     },
     "metadata": {},
     "output_type": "display_data"
    },
    {
     "data": {
      "application/vnd.jupyter.widget-view+json": {
       "model_id": "94748246108e43af85922f0e596fedde",
       "version_major": 2,
       "version_minor": 0
      },
      "text/plain": [
       "  0%|          | 0/3 [00:00<?, ?it/s]"
      ]
     },
     "metadata": {},
     "output_type": "display_data"
    },
    {
     "name": "stdout",
     "output_type": "stream",
     "text": [
      "\n",
      "Test set: Average loss: 0.0395, Accuracy: 4453/4500 (98.96%)\n",
      "\n",
      "EPOCH 30\n"
     ]
    },
    {
     "data": {
      "application/vnd.jupyter.widget-view+json": {
       "model_id": "b2b383556e024e20a4e81e50bcee3733",
       "version_major": 2,
       "version_minor": 0
      },
      "text/plain": [
       "  0%|          | 0/105 [00:00<?, ?it/s]"
      ]
     },
     "metadata": {},
     "output_type": "display_data"
    },
    {
     "data": {
      "application/vnd.jupyter.widget-view+json": {
       "model_id": "63ed4de450464f4296aa5db2f96242c0",
       "version_major": 2,
       "version_minor": 0
      },
      "text/plain": [
       "  0%|          | 0/3 [00:00<?, ?it/s]"
      ]
     },
     "metadata": {},
     "output_type": "display_data"
    },
    {
     "name": "stdout",
     "output_type": "stream",
     "text": [
      "\n",
      "Test set: Average loss: 0.1298, Accuracy: 4349/4500 (96.64%)\n",
      "\n"
     ]
    },
    {
     "data": {
      "image/png": "[encoded data removed]",
      "text/plain": [
       "<Figure size 640x480 with 1 Axes>"
      ]
     },
     "metadata": {},
     "output_type": "display_data"
    },
    {
     "name": "stdout",
     "output_type": "stream",
     "text": [
      "ELAPSED TIME: 3401.1s\n"
     ]
    }
   ],
   "source": [
    "model = CNN()\n",
    "loss = nn.CrossEntropyLoss()\n",
    "optimizer = torch.optim.Adam(model.parameters(), lr=0.001)\n",
    "#Scheduler that will modify the learning ratio dinamically according to the test loss\n",
    "scheduler = torch.optim.lr_scheduler.ReduceLROnPlateau(optimizer)\n",
    "loss_train, loss_test, acc_test, elapsed, pred = experiment(model, \n",
    "                                                      device, \n",
    "                                                      loss, \n",
    "                                                      optimizer,\n",
    "                                                      scheduler,\n",
    "                                                      train_dataloader, \n",
    "                                                      test_dataloader)\n",
    "\n",
    "\n"
   ]
  },
  {
   "cell_type": "markdown",
   "metadata": {},
   "source": [
    "The final accuracy of the model is 96.6%, with an average loss of the test slightly higher than the average loss of teh train, which indicates a bit of overfitting in the model. \n",
    "\n",
    "To avoid this overfitting, we would have to add more regularization parameters, such as adding more Dropouts on the model or adding an early stopper. If we had a better cpu, we could add this parameters and train the model, but with the current cpu it would be a waste of time.\n",
    "\n",
    "Let's have some insight on how our model is."
   ]
  },
  {
   "cell_type": "code",
   "execution_count": 38,
   "metadata": {},
   "outputs": [
    {
     "name": "stdout",
     "output_type": "stream",
     "text": [
      "[INFO] Register count_convNd() for <class 'torch.nn.modules.conv.Conv2d'>.\n",
      "[INFO] Register count_normalization() for <class 'torch.nn.modules.batchnorm.BatchNorm2d'>.\n",
      "[INFO] Register zero_ops() for <class 'torch.nn.modules.activation.ReLU'>.\n",
      "[INFO] Register zero_ops() for <class 'torch.nn.modules.pooling.MaxPool2d'>.\n",
      "[INFO] Register zero_ops() for <class 'torch.nn.modules.container.Sequential'>.\n",
      "[INFO] Register count_linear() for <class 'torch.nn.modules.linear.Linear'>.\n",
      "[INFO] Register zero_ops() for <class 'torch.nn.modules.dropout.Dropout'>.\n",
      "CNN | 3.98 Params(M) | 22.747 FLOPs(M)\n"
     ]
    },
    {
     "name": "stderr",
     "output_type": "stream",
     "text": [
      "[W NNPACK.cpp:53] Could not initialize NNPACK! Reason: Unsupported hardware.\n"
     ]
    },
    {
     "data": {
      "text/plain": [
       "(22747114.0, 3978783.0)"
      ]
     },
     "execution_count": 38,
     "metadata": {},
     "output_type": "execute_result"
    }
   ],
   "source": [
    "calculate_parameters_and_flops(model)"
   ]
  },
  {
   "cell_type": "markdown",
   "metadata": {},
   "source": [
    "Our model has 4 million weights, performing 22.7 milion FLOPs, quite a decent amount."
   ]
  },
  {
   "cell_type": "markdown",
   "metadata": {},
   "source": [
    "### Metric analysis"
   ]
  },
  {
   "cell_type": "markdown",
   "metadata": {},
   "source": [
    "Time to see how our model perform with other metrics. Firstly we will check the confusion matrix, to see where the errors are."
   ]
  },
  {
   "cell_type": "code",
   "execution_count": 39,
   "metadata": {},
   "outputs": [
    {
     "data": {
      "image/png": "[encoded data removed]",
      "text/plain": [
       "<Figure size 1000x600 with 2 Axes>"
      ]
     },
     "metadata": {},
     "output_type": "display_data"
    },
    {
     "data": {
      "text/plain": [
       "['零', '一', '二', '三', '四', '五', '六', '七', '八', '九', '十', '百', '千', '万', '亿']"
      ]
     },
     "execution_count": 39,
     "metadata": {},
     "output_type": "execute_result"
    }
   ],
   "source": [
    "cm = metrics.confusion_matrix(target_test-1,pred)\n",
    "plt.subplots(figsize=(10, 6))\n",
    "sns.heatmap(cm, annot = True, fmt = 'g')\n",
    "plt.xlabel(\"Predicted\")\n",
    "plt.ylabel(\"Actual\")\n",
    "plt.title(\"Confusion Matrix\")\n",
    "plt.show()\n",
    "[x for _,x in sorted(zip(dataset_raw['code'].unique(),dataset_raw['character'].unique()))]\n"
   ]
  },
  {
   "cell_type": "markdown",
   "metadata": {},
   "source": [
    "There is basically no error on most of the classes, except for the third one that has many of the images classified as the fourth class (two straight lines are somehow seen as three straight lines) and there's also some misclassifying in the 11th class, being seen as the 13th class (we can see they are quite similar)."
   ]
  },
  {
   "cell_type": "markdown",
   "metadata": {},
   "source": [
    "Now let's evaluate the precision, recall and f-1 score."
   ]
  },
  {
   "cell_type": "code",
   "execution_count": 40,
   "metadata": {},
   "outputs": [
    {
     "name": "stdout",
     "output_type": "stream",
     "text": [
      "              precision    recall  f1-score   support\n",
      "\n",
      "           0       0.99      1.00      0.99       300\n",
      "           1       1.00      0.97      0.98       300\n",
      "           2       0.96      0.77      0.86       300\n",
      "           3       0.81      1.00      0.89       300\n",
      "           4       0.98      0.99      0.99       300\n",
      "           5       0.98      1.00      0.99       300\n",
      "           6       0.99      1.00      0.99       300\n",
      "           7       1.00      0.95      0.97       300\n",
      "           8       1.00      1.00      1.00       300\n",
      "           9       0.97      0.99      0.98       300\n",
      "          10       1.00      0.94      0.97       300\n",
      "          11       0.97      0.99      0.98       300\n",
      "          12       0.95      0.98      0.96       300\n",
      "          13       0.95      0.98      0.97       300\n",
      "          14       1.00      0.94      0.97       300\n",
      "\n",
      "    accuracy                           0.97      4500\n",
      "   macro avg       0.97      0.97      0.97      4500\n",
      "weighted avg       0.97      0.97      0.97      4500\n",
      "\n"
     ]
    }
   ],
   "source": [
    "print(metrics.classification_report(target_test-1,pred))"
   ]
  },
  {
   "cell_type": "markdown",
   "metadata": {},
   "source": [
    "Except for the third class and the fourth, all classes have a pretty good f1-score. We can see that the precission of the fourth class is the lowest, while the recall of the third is the lowest, which makes sense after what we saw on the confusion matrix. "
   ]
  },
  {
   "cell_type": "markdown",
   "metadata": {},
   "source": [
    "### Data Augmentation"
   ]
  },
  {
   "cell_type": "markdown",
   "metadata": {},
   "source": [
    "The model is already very good, and we may achieve better accuracy with more epochs (the computer would no like that, though), but a better way to improve the model is to have more data available. In order to get more data (more images), we can apply data augmentation on our images from the train set, generating new images (rotated, translated, brightness, etc) that would help our model classify our images. \n",
    "\n",
    "While CNN have the property of spatial invariance (recognise the image in any position), we have to be careful because flipping or rotating a chinese character could made this one become a completely different character (for example in our case, the carachter with code 9 flipped could be identified easily as the one with code 3 if the handwritting is not good), so we won't flip images and the rotations applied won't be big.\n",
    "\n",
    "With all this in consideration, now we can proceed importing the albumentations packages, that let's us perform this transformations without problem."
   ]
  },
  {
   "cell_type": "code",
   "execution_count": 41,
   "metadata": {},
   "outputs": [],
   "source": [
    "import albumentations as A"
   ]
  },
  {
   "cell_type": "markdown",
   "metadata": {},
   "source": [
    "Let's set up the transformations that our images will perform. We will create two new images for each sample in the train set, and those will suffer some transformations according to some probabilities for each transformation. For this model only Geometric Transformations are suitable."
   ]
  },
  {
   "cell_type": "code",
   "execution_count": 42,
   "metadata": {},
   "outputs": [],
   "source": [
    "def image_augmentation_transformation(image):\n",
    "\n",
    "    transform2 = A.Compose([\n",
    "        A.OneOf([\n",
    "                A.Affine(scale=np.random.uniform(0.5,1.5), p=0.5),\n",
    "        A.Affine(translate_percent=None, translate_px=np.random.randint(-8,8),p=0.5)\n",
    "        ], p=0.9),\n",
    "        A.Affine(rotate=np.random.randint(-45,45),p=0.8)\n",
    "\n",
    "    ])\n",
    "    transformed = transform2(image=image)\n",
    "    return transformed[\"image\"]"
   ]
  },
  {
   "cell_type": "code",
   "execution_count": 43,
   "metadata": {},
   "outputs": [],
   "source": [
    "#we create a list to add the transformed images and we modify our targets for our trains\n",
    "#so every new image has its corresponding label\n",
    "images_aug_train = []\n",
    "target_aug_train=pd.Series(target_train.tolist()*3)\n"
   ]
  },
  {
   "cell_type": "code",
   "execution_count": 44,
   "metadata": {},
   "outputs": [],
   "source": [
    "#double for loop to create the new images in the same order as the labels\n",
    "for z in range(2):\n",
    "    for img in images_train:\n",
    "        trans_img = image_augmentation_transformation(img)\n",
    "        images_aug_train.append(trans_img)\n",
    "\n",
    "images_aug_train= np.array(images_aug_train)\n",
    "images_aug_train = np.concatenate((images_train,images_aug_train), axis=0)"
   ]
  },
  {
   "cell_type": "markdown",
   "metadata": {},
   "source": [
    "Now that we have augmented our dataset, we can proceed as before."
   ]
  },
  {
   "cell_type": "code",
   "execution_count": 45,
   "metadata": {},
   "outputs": [],
   "source": [
    "epochs = 20 #we reduce epochs, it would take too much time"
   ]
  },
  {
   "cell_type": "markdown",
   "metadata": {},
   "source": [
    "We have to create a new dataloader object with the new train dataset"
   ]
  },
  {
   "cell_type": "code",
   "execution_count": 46,
   "metadata": {},
   "outputs": [],
   "source": [
    "train_ds_aug = CustomImageDataset(images_aug_train, target_aug_train, transform)\n",
    "train_dataloader_aug = torch.utils.data.DataLoader(train_ds_aug, **train_kwargs)\n"
   ]
  },
  {
   "cell_type": "markdown",
   "metadata": {},
   "source": [
    "Now we train and test the model as before"
   ]
  },
  {
   "cell_type": "code",
   "execution_count": 49,
   "metadata": {},
   "outputs": [
    {
     "name": "stdout",
     "output_type": "stream",
     "text": [
      "EPOCH 1\n"
     ]
    },
    {
     "data": {
      "application/vnd.jupyter.widget-view+json": {
       "model_id": "6bb87cc5516f4a1882c2090faf9594ee",
       "version_major": 2,
       "version_minor": 0
      },
      "text/plain": [
       "  0%|          | 0/315 [00:00<?, ?it/s]"
      ]
     },
     "metadata": {},
     "output_type": "display_data"
    },
    {
     "data": {
      "application/vnd.jupyter.widget-view+json": {
       "model_id": "3b47b671e6524eb2883e4b5a143a9571",
       "version_major": 2,
       "version_minor": 0
      },
      "text/plain": [
       "  0%|          | 0/3 [00:00<?, ?it/s]"
      ]
     },
     "metadata": {},
     "output_type": "display_data"
    },
    {
     "name": "stdout",
     "output_type": "stream",
     "text": [
      "\n",
      "Test set: Average loss: 0.2165, Accuracy: 4174/4500 (92.76%)\n",
      "\n",
      "EPOCH 2\n"
     ]
    },
    {
     "data": {
      "application/vnd.jupyter.widget-view+json": {
       "model_id": "af8b7bdb7d1f46f79bbf49d068615007",
       "version_major": 2,
       "version_minor": 0
      },
      "text/plain": [
       "  0%|          | 0/315 [00:00<?, ?it/s]"
      ]
     },
     "metadata": {},
     "output_type": "display_data"
    },
    {
     "data": {
      "application/vnd.jupyter.widget-view+json": {
       "model_id": "f559761964884c3eb06d197f59a305ff",
       "version_major": 2,
       "version_minor": 0
      },
      "text/plain": [
       "  0%|          | 0/3 [00:00<?, ?it/s]"
      ]
     },
     "metadata": {},
     "output_type": "display_data"
    },
    {
     "name": "stdout",
     "output_type": "stream",
     "text": [
      "\n",
      "Test set: Average loss: 0.0593, Accuracy: 4402/4500 (97.82%)\n",
      "\n",
      "EPOCH 3\n"
     ]
    },
    {
     "data": {
      "application/vnd.jupyter.widget-view+json": {
       "model_id": "c1831abac7c747f79dbf2236c2cb2274",
       "version_major": 2,
       "version_minor": 0
      },
      "text/plain": [
       "  0%|          | 0/315 [00:00<?, ?it/s]"
      ]
     },
     "metadata": {},
     "output_type": "display_data"
    },
    {
     "data": {
      "application/vnd.jupyter.widget-view+json": {
       "model_id": "55b2e745f697445d955200ddbedfc455",
       "version_major": 2,
       "version_minor": 0
      },
      "text/plain": [
       "  0%|          | 0/3 [00:00<?, ?it/s]"
      ]
     },
     "metadata": {},
     "output_type": "display_data"
    },
    {
     "name": "stdout",
     "output_type": "stream",
     "text": [
      "\n",
      "Test set: Average loss: 0.0623, Accuracy: 4400/4500 (97.78%)\n",
      "\n",
      "EPOCH 4\n"
     ]
    },
    {
     "data": {
      "application/vnd.jupyter.widget-view+json": {
       "model_id": "0b27f93bf5bf4f59adc9e63acd38d96f",
       "version_major": 2,
       "version_minor": 0
      },
      "text/plain": [
       "  0%|          | 0/315 [00:00<?, ?it/s]"
      ]
     },
     "metadata": {},
     "output_type": "display_data"
    },
    {
     "data": {
      "application/vnd.jupyter.widget-view+json": {
       "model_id": "85c9860c640545be81b0374be57224be",
       "version_major": 2,
       "version_minor": 0
      },
      "text/plain": [
       "  0%|          | 0/3 [00:00<?, ?it/s]"
      ]
     },
     "metadata": {},
     "output_type": "display_data"
    },
    {
     "name": "stdout",
     "output_type": "stream",
     "text": [
      "\n",
      "Test set: Average loss: 0.0456, Accuracy: 4424/4500 (98.31%)\n",
      "\n",
      "EPOCH 5\n"
     ]
    },
    {
     "data": {
      "application/vnd.jupyter.widget-view+json": {
       "model_id": "96393c65e31242aa9e55da611e22efec",
       "version_major": 2,
       "version_minor": 0
      },
      "text/plain": [
       "  0%|          | 0/315 [00:00<?, ?it/s]"
      ]
     },
     "metadata": {},
     "output_type": "display_data"
    },
    {
     "data": {
      "application/vnd.jupyter.widget-view+json": {
       "model_id": "d0299dec371f41a39a9d738bc73261a1",
       "version_major": 2,
       "version_minor": 0
      },
      "text/plain": [
       "  0%|          | 0/3 [00:00<?, ?it/s]"
      ]
     },
     "metadata": {},
     "output_type": "display_data"
    },
    {
     "name": "stdout",
     "output_type": "stream",
     "text": [
      "\n",
      "Test set: Average loss: 0.0521, Accuracy: 4438/4500 (98.62%)\n",
      "\n",
      "EPOCH 6\n"
     ]
    },
    {
     "data": {
      "application/vnd.jupyter.widget-view+json": {
       "model_id": "100a5542193b4fdfbe521fe15522ea61",
       "version_major": 2,
       "version_minor": 0
      },
      "text/plain": [
       "  0%|          | 0/315 [00:00<?, ?it/s]"
      ]
     },
     "metadata": {},
     "output_type": "display_data"
    },
    {
     "data": {
      "application/vnd.jupyter.widget-view+json": {
       "model_id": "21c9bd113ad94f4ba189d84283cb8097",
       "version_major": 2,
       "version_minor": 0
      },
      "text/plain": [
       "  0%|          | 0/3 [00:00<?, ?it/s]"
      ]
     },
     "metadata": {},
     "output_type": "display_data"
    },
    {
     "name": "stdout",
     "output_type": "stream",
     "text": [
      "\n",
      "Test set: Average loss: 0.0752, Accuracy: 4388/4500 (97.51%)\n",
      "\n",
      "EPOCH 7\n"
     ]
    },
    {
     "data": {
      "application/vnd.jupyter.widget-view+json": {
       "model_id": "5e829de33ea04c769bf4a89cdcfa52bc",
       "version_major": 2,
       "version_minor": 0
      },
      "text/plain": [
       "  0%|          | 0/315 [00:00<?, ?it/s]"
      ]
     },
     "metadata": {},
     "output_type": "display_data"
    },
    {
     "data": {
      "application/vnd.jupyter.widget-view+json": {
       "model_id": "260ac25fcab34c9ab7509f9e9737a5fa",
       "version_major": 2,
       "version_minor": 0
      },
      "text/plain": [
       "  0%|          | 0/3 [00:00<?, ?it/s]"
      ]
     },
     "metadata": {},
     "output_type": "display_data"
    },
    {
     "name": "stdout",
     "output_type": "stream",
     "text": [
      "\n",
      "Test set: Average loss: 0.0403, Accuracy: 4431/4500 (98.47%)\n",
      "\n",
      "EPOCH 8\n"
     ]
    },
    {
     "data": {
      "application/vnd.jupyter.widget-view+json": {
       "model_id": "b80a5c8b07344ccc93beca359907a016",
       "version_major": 2,
       "version_minor": 0
      },
      "text/plain": [
       "  0%|          | 0/315 [00:00<?, ?it/s]"
      ]
     },
     "metadata": {},
     "output_type": "display_data"
    },
    {
     "data": {
      "application/vnd.jupyter.widget-view+json": {
       "model_id": "941b51194300485086ba4671d9cac4e1",
       "version_major": 2,
       "version_minor": 0
      },
      "text/plain": [
       "  0%|          | 0/3 [00:00<?, ?it/s]"
      ]
     },
     "metadata": {},
     "output_type": "display_data"
    },
    {
     "name": "stdout",
     "output_type": "stream",
     "text": [
      "\n",
      "Test set: Average loss: 0.1993, Accuracy: 4241/4500 (94.24%)\n",
      "\n",
      "EPOCH 9\n"
     ]
    },
    {
     "data": {
      "application/vnd.jupyter.widget-view+json": {
       "model_id": "1a98ed4b1d4240e6bcc5e872906c834b",
       "version_major": 2,
       "version_minor": 0
      },
      "text/plain": [
       "  0%|          | 0/315 [00:00<?, ?it/s]"
      ]
     },
     "metadata": {},
     "output_type": "display_data"
    },
    {
     "data": {
      "application/vnd.jupyter.widget-view+json": {
       "model_id": "8f08566d73e84d93947006f36aa351ec",
       "version_major": 2,
       "version_minor": 0
      },
      "text/plain": [
       "  0%|          | 0/3 [00:00<?, ?it/s]"
      ]
     },
     "metadata": {},
     "output_type": "display_data"
    },
    {
     "name": "stdout",
     "output_type": "stream",
     "text": [
      "\n",
      "Test set: Average loss: 0.0527, Accuracy: 4427/4500 (98.38%)\n",
      "\n",
      "EPOCH 10\n"
     ]
    },
    {
     "data": {
      "application/vnd.jupyter.widget-view+json": {
       "model_id": "4da367dc82854653bd261320f9f62c3a",
       "version_major": 2,
       "version_minor": 0
      },
      "text/plain": [
       "  0%|          | 0/315 [00:00<?, ?it/s]"
      ]
     },
     "metadata": {},
     "output_type": "display_data"
    },
    {
     "data": {
      "application/vnd.jupyter.widget-view+json": {
       "model_id": "c6b49b16b8734196b78288ba4b96bb71",
       "version_major": 2,
       "version_minor": 0
      },
      "text/plain": [
       "  0%|          | 0/3 [00:00<?, ?it/s]"
      ]
     },
     "metadata": {},
     "output_type": "display_data"
    },
    {
     "name": "stdout",
     "output_type": "stream",
     "text": [
      "\n",
      "Test set: Average loss: 0.1150, Accuracy: 4320/4500 (96.00%)\n",
      "\n",
      "EPOCH 11\n"
     ]
    },
    {
     "data": {
      "application/vnd.jupyter.widget-view+json": {
       "model_id": "a1971ef5e7fa4770834a21007d15f6df",
       "version_major": 2,
       "version_minor": 0
      },
      "text/plain": [
       "  0%|          | 0/315 [00:00<?, ?it/s]"
      ]
     },
     "metadata": {},
     "output_type": "display_data"
    },
    {
     "data": {
      "application/vnd.jupyter.widget-view+json": {
       "model_id": "371bc5977ebf4c42a3106ecd1c6b3d8a",
       "version_major": 2,
       "version_minor": 0
      },
      "text/plain": [
       "  0%|          | 0/3 [00:00<?, ?it/s]"
      ]
     },
     "metadata": {},
     "output_type": "display_data"
    },
    {
     "name": "stdout",
     "output_type": "stream",
     "text": [
      "\n",
      "Test set: Average loss: 0.0483, Accuracy: 4425/4500 (98.33%)\n",
      "\n",
      "EPOCH 12\n"
     ]
    },
    {
     "data": {
      "application/vnd.jupyter.widget-view+json": {
       "model_id": "304d93253a6948a8bbe3a4c466d29563",
       "version_major": 2,
       "version_minor": 0
      },
      "text/plain": [
       "  0%|          | 0/315 [00:00<?, ?it/s]"
      ]
     },
     "metadata": {},
     "output_type": "display_data"
    },
    {
     "data": {
      "application/vnd.jupyter.widget-view+json": {
       "model_id": "af6060ed8be547a6aca9e877cf4687e1",
       "version_major": 2,
       "version_minor": 0
      },
      "text/plain": [
       "  0%|          | 0/3 [00:00<?, ?it/s]"
      ]
     },
     "metadata": {},
     "output_type": "display_data"
    },
    {
     "name": "stdout",
     "output_type": "stream",
     "text": [
      "\n",
      "Test set: Average loss: 0.0472, Accuracy: 4432/4500 (98.49%)\n",
      "\n",
      "EPOCH 13\n"
     ]
    },
    {
     "data": {
      "application/vnd.jupyter.widget-view+json": {
       "model_id": "2c1cd48521974cf48c7b9640f3c9d2cd",
       "version_major": 2,
       "version_minor": 0
      },
      "text/plain": [
       "  0%|          | 0/315 [00:00<?, ?it/s]"
      ]
     },
     "metadata": {},
     "output_type": "display_data"
    },
    {
     "data": {
      "application/vnd.jupyter.widget-view+json": {
       "model_id": "8b65d88306da447f870240bedd29cdf2",
       "version_major": 2,
       "version_minor": 0
      },
      "text/plain": [
       "  0%|          | 0/3 [00:00<?, ?it/s]"
      ]
     },
     "metadata": {},
     "output_type": "display_data"
    },
    {
     "name": "stdout",
     "output_type": "stream",
     "text": [
      "\n",
      "Test set: Average loss: 0.0341, Accuracy: 4450/4500 (98.89%)\n",
      "\n",
      "EPOCH 14\n"
     ]
    },
    {
     "data": {
      "application/vnd.jupyter.widget-view+json": {
       "model_id": "a2cf7dc19a324913868bcbb51eccc1c4",
       "version_major": 2,
       "version_minor": 0
      },
      "text/plain": [
       "  0%|          | 0/315 [00:00<?, ?it/s]"
      ]
     },
     "metadata": {},
     "output_type": "display_data"
    },
    {
     "data": {
      "application/vnd.jupyter.widget-view+json": {
       "model_id": "153b9302fc544770a88356b3ca6a52aa",
       "version_major": 2,
       "version_minor": 0
      },
      "text/plain": [
       "  0%|          | 0/3 [00:00<?, ?it/s]"
      ]
     },
     "metadata": {},
     "output_type": "display_data"
    },
    {
     "name": "stdout",
     "output_type": "stream",
     "text": [
      "\n",
      "Test set: Average loss: 0.0283, Accuracy: 4455/4500 (99.00%)\n",
      "\n",
      "EPOCH 15\n"
     ]
    },
    {
     "data": {
      "application/vnd.jupyter.widget-view+json": {
       "model_id": "10752624937543998e2c83f6aeb27079",
       "version_major": 2,
       "version_minor": 0
      },
      "text/plain": [
       "  0%|          | 0/315 [00:00<?, ?it/s]"
      ]
     },
     "metadata": {},
     "output_type": "display_data"
    },
    {
     "data": {
      "application/vnd.jupyter.widget-view+json": {
       "model_id": "6d3db2cd24f94088b1a952af259c0393",
       "version_major": 2,
       "version_minor": 0
      },
      "text/plain": [
       "  0%|          | 0/3 [00:00<?, ?it/s]"
      ]
     },
     "metadata": {},
     "output_type": "display_data"
    },
    {
     "name": "stdout",
     "output_type": "stream",
     "text": [
      "\n",
      "Test set: Average loss: 0.0128, Accuracy: 4477/4500 (99.49%)\n",
      "\n",
      "EPOCH 16\n"
     ]
    },
    {
     "data": {
      "application/vnd.jupyter.widget-view+json": {
       "model_id": "729735dcbaf542758b905213a91c0525",
       "version_major": 2,
       "version_minor": 0
      },
      "text/plain": [
       "  0%|          | 0/315 [00:00<?, ?it/s]"
      ]
     },
     "metadata": {},
     "output_type": "display_data"
    },
    {
     "data": {
      "application/vnd.jupyter.widget-view+json": {
       "model_id": "415a9afff69c4594ada799759e98eae4",
       "version_major": 2,
       "version_minor": 0
      },
      "text/plain": [
       "  0%|          | 0/3 [00:00<?, ?it/s]"
      ]
     },
     "metadata": {},
     "output_type": "display_data"
    },
    {
     "name": "stdout",
     "output_type": "stream",
     "text": [
      "\n",
      "Test set: Average loss: 0.0528, Accuracy: 4445/4500 (98.78%)\n",
      "\n",
      "EPOCH 17\n"
     ]
    },
    {
     "data": {
      "application/vnd.jupyter.widget-view+json": {
       "model_id": "34b67de6d673426cbe64fe54978e322e",
       "version_major": 2,
       "version_minor": 0
      },
      "text/plain": [
       "  0%|          | 0/315 [00:00<?, ?it/s]"
      ]
     },
     "metadata": {},
     "output_type": "display_data"
    },
    {
     "data": {
      "application/vnd.jupyter.widget-view+json": {
       "model_id": "b31f846cbf114588b9b35947c71efad6",
       "version_major": 2,
       "version_minor": 0
      },
      "text/plain": [
       "  0%|          | 0/3 [00:00<?, ?it/s]"
      ]
     },
     "metadata": {},
     "output_type": "display_data"
    },
    {
     "name": "stdout",
     "output_type": "stream",
     "text": [
      "\n",
      "Test set: Average loss: 0.0549, Accuracy: 4426/4500 (98.36%)\n",
      "\n",
      "EPOCH 18\n"
     ]
    },
    {
     "data": {
      "application/vnd.jupyter.widget-view+json": {
       "model_id": "e379b81be7344c709378383b68226f22",
       "version_major": 2,
       "version_minor": 0
      },
      "text/plain": [
       "  0%|          | 0/315 [00:00<?, ?it/s]"
      ]
     },
     "metadata": {},
     "output_type": "display_data"
    },
    {
     "data": {
      "application/vnd.jupyter.widget-view+json": {
       "model_id": "07b532a5f12c4ffcb0e6588a6ad60030",
       "version_major": 2,
       "version_minor": 0
      },
      "text/plain": [
       "  0%|          | 0/3 [00:00<?, ?it/s]"
      ]
     },
     "metadata": {},
     "output_type": "display_data"
    },
    {
     "name": "stdout",
     "output_type": "stream",
     "text": [
      "\n",
      "Test set: Average loss: 0.0161, Accuracy: 4476/4500 (99.47%)\n",
      "\n",
      "EPOCH 19\n"
     ]
    },
    {
     "data": {
      "application/vnd.jupyter.widget-view+json": {
       "model_id": "24f3072a473349e08b063c79b1543bbe",
       "version_major": 2,
       "version_minor": 0
      },
      "text/plain": [
       "  0%|          | 0/315 [00:00<?, ?it/s]"
      ]
     },
     "metadata": {},
     "output_type": "display_data"
    },
    {
     "data": {
      "application/vnd.jupyter.widget-view+json": {
       "model_id": "7569cbe558d74f55be048b05f1f3180c",
       "version_major": 2,
       "version_minor": 0
      },
      "text/plain": [
       "  0%|          | 0/3 [00:00<?, ?it/s]"
      ]
     },
     "metadata": {},
     "output_type": "display_data"
    },
    {
     "name": "stdout",
     "output_type": "stream",
     "text": [
      "\n",
      "Test set: Average loss: 0.0154, Accuracy: 4475/4500 (99.44%)\n",
      "\n",
      "EPOCH 20\n"
     ]
    },
    {
     "data": {
      "application/vnd.jupyter.widget-view+json": {
       "model_id": "fa299c96e38a4de1b7dbf0602225d25e",
       "version_major": 2,
       "version_minor": 0
      },
      "text/plain": [
       "  0%|          | 0/315 [00:00<?, ?it/s]"
      ]
     },
     "metadata": {},
     "output_type": "display_data"
    },
    {
     "data": {
      "application/vnd.jupyter.widget-view+json": {
       "model_id": "321076b531804b1cb10f4b54183714a5",
       "version_major": 2,
       "version_minor": 0
      },
      "text/plain": [
       "  0%|          | 0/3 [00:00<?, ?it/s]"
      ]
     },
     "metadata": {},
     "output_type": "display_data"
    },
    {
     "name": "stdout",
     "output_type": "stream",
     "text": [
      "\n",
      "Test set: Average loss: 0.0275, Accuracy: 4464/4500 (99.20%)\n",
      "\n"
     ]
    },
    {
     "data": {
      "image/png": "[encoded data removed]",
      "text/plain": [
       "<Figure size 640x480 with 1 Axes>"
      ]
     },
     "metadata": {},
     "output_type": "display_data"
    },
    {
     "name": "stdout",
     "output_type": "stream",
     "text": [
      "ELAPSED TIME: 7032.3s\n"
     ]
    }
   ],
   "source": [
    "model = CNN()\n",
    "loss = nn.CrossEntropyLoss()\n",
    "optimizer = torch.optim.Adam(model.parameters(), lr=0.001)\n",
    "scheduler = torch.optim.lr_scheduler.ReduceLROnPlateau(optimizer)\n",
    "loss_train, loss_test, acc_test, elapsed, pred = experiment(model, \n",
    "                                                      device, \n",
    "                                                      loss, \n",
    "                                                      optimizer,\n",
    "                                                      scheduler,\n",
    "                                                      train_dataloader_aug, \n",
    "                                                      test_dataloader)\n",
    "\n"
   ]
  },
  {
   "cell_type": "markdown",
   "metadata": {},
   "source": [
    "We can see how much the model has improved, and that it stills suffer from overfitting, although not as much as before (training loss is higher thant test loss, but this last should be decreasing for all epochs and it is not the case). We could add a checkpointer, to use the model with the best accuracy, but we will stay with the model of the last epoch.\n",
    "\n",
    "In terms of accuracy, it achieves a 99.2%, and it will be interesting to see where the errors are."
   ]
  },
  {
   "cell_type": "markdown",
   "metadata": {},
   "source": [
    "### Metric Analysis"
   ]
  },
  {
   "cell_type": "markdown",
   "metadata": {},
   "source": [
    "Like before, we start with analysing a confusion matrix"
   ]
  },
  {
   "cell_type": "code",
   "execution_count": 82,
   "metadata": {},
   "outputs": [
    {
     "data": {
      "image/png": "[encoded data removed]",
      "text/plain": [
       "<Figure size 1000x600 with 2 Axes>"
      ]
     },
     "metadata": {},
     "output_type": "display_data"
    },
    {
     "name": "stdout",
     "output_type": "stream",
     "text": [
      "['零', '一', '二', '三', '四', '五', '六', '七', '八', '九', '十', '百', '千', '万', '亿']\n"
     ]
    }
   ],
   "source": [
    "cm = metrics.confusion_matrix(target_test-1,pred)\n",
    "plt.subplots(figsize=(10, 6))\n",
    "sns.heatmap(cm, annot = True, fmt = 'g')\n",
    "plt.xlabel(\"Predicted\")\n",
    "plt.ylabel(\"Actual\")\n",
    "plt.title(\"Confusion Matrix\")\n",
    "plt.show()\n",
    "characters = [x for _,x in sorted(zip(dataset_raw['code'].unique(),dataset_raw['character'].unique()))]\n",
    "print(characters)\n"
   ]
  },
  {
   "cell_type": "markdown",
   "metadata": {},
   "source": [
    "We can see that most of the classes are perfectly classified, except for a couple. Now the main error is found at the second class, where some of the images are predicted as the third (one straight line seen as two), and there is also some mislabelling in the eleventh class. In general, those are very good results and the error could be solved most likely.\n",
    "\n",
    "Now let's see how the classes perfom at the different metrics."
   ]
  },
  {
   "cell_type": "code",
   "execution_count": 51,
   "metadata": {},
   "outputs": [
    {
     "name": "stdout",
     "output_type": "stream",
     "text": [
      "              precision    recall  f1-score   support\n",
      "\n",
      "           0       1.00      1.00      1.00       300\n",
      "           1       1.00      0.95      0.98       300\n",
      "           2       0.95      0.99      0.97       300\n",
      "           3       0.98      1.00      0.99       300\n",
      "           4       1.00      1.00      1.00       300\n",
      "           5       1.00      0.99      1.00       300\n",
      "           6       0.99      1.00      1.00       300\n",
      "           7       1.00      1.00      1.00       300\n",
      "           8       1.00      1.00      1.00       300\n",
      "           9       0.99      0.99      0.99       300\n",
      "          10       1.00      0.97      0.98       300\n",
      "          11       1.00      1.00      1.00       300\n",
      "          12       0.97      1.00      0.99       300\n",
      "          13       1.00      1.00      1.00       300\n",
      "          14       1.00      1.00      1.00       300\n",
      "\n",
      "    accuracy                           0.99      4500\n",
      "   macro avg       0.99      0.99      0.99      4500\n",
      "weighted avg       0.99      0.99      0.99      4500\n",
      "\n"
     ]
    }
   ],
   "source": [
    "print(metrics.classification_report(target_test-1,pred))"
   ]
  },
  {
   "cell_type": "markdown",
   "metadata": {},
   "source": [
    "As expected, the second class has the worse recall and the third the worse precission, and most of the classes are perfectly classified (1 as f1-score)."
   ]
  },
  {
   "cell_type": "markdown",
   "metadata": {},
   "source": [
    "#### Errors"
   ]
  },
  {
   "cell_type": "markdown",
   "metadata": {},
   "source": [
    "The model perfroms incredible, but can be improved. In order to do that, we have to take a look at mislabelled images"
   ]
  },
  {
   "cell_type": "code",
   "execution_count": 153,
   "metadata": {},
   "outputs": [
    {
     "name": "stdout",
     "output_type": "stream",
     "text": [
      "(0)Wrong label: 七 Correct label: 五\n",
      "(1)Wrong label: 九 Correct label: 八\n",
      "(2)Wrong label: 二 Correct label: 一\n",
      "(3)Wrong label: 二 Correct label: 一\n"
     ]
    },
    {
     "data": {
      "image/png": "[encoded data removed]",
      "text/plain": [
       "<Figure size 1000x1000 with 4 Axes>"
      ]
     },
     "metadata": {},
     "output_type": "display_data"
    }
   ],
   "source": [
    "preds_model1 = pred\n",
    "preds_mod = []\n",
    "\n",
    "for i in preds_model1:\n",
    "    preds_mod.append(i[0]+1)\n",
    "\n",
    "y_true = target_test.tolist()\n",
    "#We check which images are wrongly labelled\n",
    "wrong_labels = np.argwhere(np.array(y_true)!=np.array(preds_mod)) \n",
    "\n",
    "n_errors = len(wrong_labels)\n",
    "#Now we plot randomly 4 of the errors\n",
    "index = np.random.randint(n_errors, size=4)\n",
    "f, ax = plt.subplots(2,2, figsize=(10,10))\n",
    "\n",
    "for i,num in enumerate(index):\n",
    "    img_data = skimage.io.imread(IMAGE_PATH + image_files[num])\n",
    "    ax[i//2, i%2].set_title(i)\n",
    "    ax[i//2, i%2].imshow(images_test[wrong_labels[num][0]])\n",
    "    ax[i//2, i%2].axis('off')\n",
    "    print(\"(\"+str(i)+\")Wrong label:\",characters[preds_mod[wrong_labels[num][0]]-1],preds_mod[wrong_labels[num][0]-1],\"Correct label:\",characters[y_true[wrong_labels[num][0]]-1])\n",
    "plt.show()    \n",
    "    "
   ]
  },
  {
   "cell_type": "markdown",
   "metadata": {},
   "source": [
    "## Future work"
   ]
  },
  {
   "cell_type": "markdown",
   "metadata": {},
   "source": [
    "In order to improve our model we have different options:\n",
    "\n",
    "1. Increasing number of epochs\n",
    "\n",
    "2. Doing a Convolutional XGBoost (and ensemble of a CNN and XGBoost Classifier)\n",
    "\n",
    "3. Doing more data augmentation\n",
    "\n",
    "4. Adding a checkpointer that retrieve the model with the best accuracy (we would have to add then a validation set)\n",
    "\n",
    "5. Trying with different models (for example Residual Networks)\n",
    "\n",
    "6. Doing Hyperparameter Tunning of the parameters of the optimizer, scheduler, ..."
   ]
  },
  {
   "cell_type": "markdown",
   "metadata": {},
   "source": [
    "To avoid the present overfitting, we can do the following:\n",
    "\n",
    "1. Adding dropouts on the model\n",
    "\n",
    "2. Adding weight decay on the optimizer\n",
    "\n",
    "3. Early stopping when the test loss stops improving (important the value of the patience)."
   ]
  },
  {
   "cell_type": "markdown",
   "metadata": {},
   "source": [
    "Due to the time given, and the performance of the computer, we can not test all this.\n",
    "\n",
    "Finally, let's make a brief summary of all the models and their results."
   ]
  },
  {
   "cell_type": "markdown",
   "metadata": {},
   "source": [
    "## Benchmark & Comparison of metrics"
   ]
  },
  {
   "cell_type": "markdown",
   "metadata": {},
   "source": [
    "| Model | Time Elapsed (s) | Mean Test Accuracy (%)  |\n",
    "| ----------------|---------------|-----------------|\n",
    "| KNN | 338 | 41 |\n",
    "| RandomForestClassifier | 45 | 55 |\n",
    "| XGBoost | 573 | 43 |\n",
    "| RandomForestClassifier (Hyperparamet Search) | 173 | 62 |\n",
    "| CNN | 3400 | 96.6 |\n",
    "| CNN Data Augmentation | 7032 | 99.2 |"
   ]
  },
  {
   "cell_type": "markdown",
   "metadata": {},
   "source": [
    "Let's look at the metrics for some of the classes.\n",
    "\n",
    "Class 3:"
   ]
  },
  {
   "cell_type": "markdown",
   "metadata": {},
   "source": [
    "| Metric | RandomForest | CNN | CNN Data Augmentation |\n",
    "| ----------------|---------------|-----------------|-----|\n",
    "| Precission | 0.65 | 0.96 | 1 |\n",
    "| Recall | 0.73 | 0.77 | 0.99|\n",
    "| F1-Score | 0.69 | 0.86 | 0.97|\n"
   ]
  },
  {
   "cell_type": "markdown",
   "metadata": {},
   "source": [
    "Class 11:"
   ]
  },
  {
   "cell_type": "markdown",
   "metadata": {},
   "source": [
    "| Metric | RandomForest | CNN | CNN Data Augmentation | \n",
    "| ----------------|---------------|-----------------|-----|\n",
    "| Precission | 0.63 | 1 | 1 |\n",
    "| Recall | 0.69 | 0.94 | 0.97|\n",
    "| F1-Score | 0.66 | 0.97 | 0.98|\n"
   ]
  },
  {
   "cell_type": "markdown",
   "metadata": {},
   "source": [
    "## Conclusions"
   ]
  },
  {
   "cell_type": "markdown",
   "metadata": {},
   "source": [
    "We have been able to see that CNN are great models for image classification, and that Data Augmentation is a great technique to improve models.\n",
    "\n",
    "Furthermore, we have seen that there are cases where Artificial Neural Networks models will outperform considerably conventional Machine Learning models (such as KNN and Random Forest).\n",
    "\n",
    "Talking about the dataset, it is not one of the most difficult to analise, as we have seen. There are no flaws on the dataset (no NaNs, etc) and most of the images are quite clear, there is barely noise, being this the reason of such high accuracy score.\n",
    "\n",
    "I firmly believe that is a good alternative to the classis MNIST to practice with CNN, given that chinese characters are very different to conventional numbers, and it can help to understand how CNN perform.\n",
    "\n",
    "With all this said, I think that perfect accuracy can be achieved in this dataset, giving the necessary thought to the model and the differents techniques applied."
   ]
  }
 ],
 "metadata": {
  "kernelspec": {
   "display_name": "Python 3 (ipykernel)",
   "language": "python",
   "name": "python3"
  },
  "language_info": {
   "codemirror_mode": {
    "name": "ipython",
    "version": 3
   },
   "file_extension": ".py",
   "mimetype": "text/x-python",
   "name": "python",
   "nbconvert_exporter": "python",
   "pygments_lexer": "ipython3",
   "version": "3.9.13"
  }
 },
 "nbformat": 4,
 "nbformat_minor": 4
}
